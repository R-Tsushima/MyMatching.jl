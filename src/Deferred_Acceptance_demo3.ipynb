{
 "cells": [
  {
   "cell_type": "code",
   "execution_count": 1,
   "metadata": {
    "collapsed": false
   },
   "outputs": [],
   "source": [
    "using MyMatching"
   ]
  },
  {
   "cell_type": "code",
   "execution_count": 9,
   "metadata": {
    "collapsed": false
   },
   "outputs": [
    {
     "name": "stderr",
     "output_type": "stream",
     "text": [
      "\u001b[1m\u001b[34mINFO: Testing MyMatching\n",
      "\u001b[0m\u001b[1m\u001b[34mINFO: MyMatching tests passed\n",
      "\u001b[0m"
     ]
    }
   ],
   "source": [
    "Pkg.test(\"MyMatching\")"
   ]
  },
  {
   "cell_type": "code",
   "execution_count": 2,
   "metadata": {
    "collapsed": false
   },
   "outputs": [],
   "source": [
    "using Matching"
   ]
  },
  {
   "cell_type": "code",
   "execution_count": 3,
   "metadata": {
    "collapsed": false
   },
   "outputs": [
    {
     "data": {
      "text/plain": [
       "mat2vecs (generic function with 1 method)"
      ]
     },
     "execution_count": 3,
     "metadata": {},
     "output_type": "execute_result"
    }
   ],
   "source": [
    "function mat2vecs{T<:Integer}(prefs::Matrix{T})\n",
    "    return [prefs[1:findfirst(prefs[:, j], 0)-1, j] for j in 1:size(prefs, 2)]\n",
    "end"
   ]
  },
  {
   "cell_type": "code",
   "execution_count": 7,
   "metadata": {
    "collapsed": false
   },
   "outputs": [
    {
     "data": {
      "text/plain": [
       "(Array{Int64,1}[[1,5,4,2,3],[4,3,1,5,2],[1,3,4,2,5],[3,1,4,2,5],[2,4,1,3,5]],Array{Int64,1}[[2,4,5,1,3],[2,1,5,3,4],[5,4,1,2,3],[3,2,1,5,4],[1,5,4,3,2]])"
      ]
     },
     "execution_count": 7,
     "metadata": {},
     "output_type": "execute_result"
    }
   ],
   "source": [
    "m_prefs, f_prefs = mat2vecs.(random_prefs(5, 5, allow_unmatched = false))"
   ]
  },
  {
   "cell_type": "code",
   "execution_count": 5,
   "metadata": {
    "collapsed": false
   },
   "outputs": [],
   "source": [
    "p_caps = [1, 1, 1, 2, 2]\n",
    "r_caps = [2, 2, 3];"
   ]
  },
  {
   "cell_type": "code",
   "execution_count": 8,
   "metadata": {
    "collapsed": false
   },
   "outputs": [
    {
     "data": {
      "text/plain": [
       "([0,1,4,3,2],[2,5,4,3,0])"
      ]
     },
     "execution_count": 8,
     "metadata": {},
     "output_type": "execute_result"
    }
   ],
   "source": [
    "my_deferred_acceptance(m_prefs, f_prefs)"
   ]
  },
  {
   "cell_type": "markdown",
   "metadata": {},
   "source": [
    "## 例1\n",
    "\n",
    "```\n",
    "In [4]:\n",
    "prop_prefs, resp_prefs = mat2vecs.(random_prefs(5, 3, allow_unmatched = false))\n",
    "\n",
    "Out[4]:\n",
    "(Array{Int64,1}[[3,1,2],[1,2,3],[2,3,1],[2,3,1],[3,1,2]],Array{Int64,1}[[1,3,2,5,4],[3,2,1,5,4],[1,2,3,4,5]])\n",
    "\n",
    "In [5]:\n",
    "p_caps = [1, 1, 1, 2, 2]\n",
    "r_caps = [2, 2, 3];\n",
    "\n",
    "In [6]:\n",
    "my_deferred_acceptance(prop_prefs, resp_prefs, p_caps, r_caps)\n",
    "\n",
    "Out[6]:\n",
    "([3,1,2,2,3,3,1],[5,2,4,3,4,5,1],[1,2,3,4,6,8],[1,3,5,8])\n",
    "```"
   ]
  },
  {
   "cell_type": "markdown",
   "metadata": {},
   "source": [
    "## 例2\n",
    "\n",
    "```\n",
    "In [9]:\n",
    "prop_prefs, resp_prefs = mat2vecs.(random_prefs(7, 4, allow_unmatched = false))\n",
    "\n",
    "Out[9]:\n",
    "(Array{Int64,1}[[3,2,4,1],[4,1,3,2],[1,2,4,3],[3,2,1,4],[4,1,3,2],[1,2,4,3],[4,1,3,2]],Array{Int64,1}[[7,3,2,6,5,1,4],[3,4,6,1,5,2,7],[3,6,2,1,4,5,7],[7,6,2,1,4,5,3]])\n",
    "\n",
    "In [10]:\n",
    "p_caps = [1, 2, 2, 1, 3, 1, 1]\n",
    "r_caps = [3, 2, 4, 2];\n",
    "\n",
    "In [11]:\n",
    "my_deferred_acceptance(prop_prefs, resp_prefs, p_caps, r_caps)\n",
    "\n",
    "Out[11]:\n",
    "([3,4,1,1,2,3,3,2,0,1,4],[2,6,3,5,3,0,5,4,1,7,2],[1,2,4,6,7,10,11,12],[1,4,6,10,12])\n",
    "```"
   ]
  },
  {
   "cell_type": "code",
   "execution_count": null,
   "metadata": {
    "collapsed": true
   },
   "outputs": [],
   "source": []
  }
 ],
 "metadata": {
  "kernelspec": {
   "display_name": "Julia 0.5.1",
   "language": "julia",
   "name": "julia-0.5"
  },
  "language_info": {
   "file_extension": ".jl",
   "mimetype": "application/julia",
   "name": "julia",
   "version": "0.5.1"
  }
 },
 "nbformat": 4,
 "nbformat_minor": 2
}
