{
 "cells": [
  {
   "cell_type": "markdown",
   "metadata": {},
   "source": [
    "# 課題５\n",
    "## 津島 亮太"
   ]
  },
  {
   "cell_type": "markdown",
   "metadata": {},
   "source": [
    "## １．多対多への拡張"
   ]
  },
  {
   "cell_type": "code",
   "execution_count": 1,
   "metadata": {
    "collapsed": true
   },
   "outputs": [],
   "source": [
    "using MyMatching"
   ]
  },
  {
   "cell_type": "markdown",
   "metadata": {},
   "source": [
    "[ソースコードはこちら](https://github.com/R-Tsushima/MyMatching.jl/blob/master/src/MyMatching.jl)\n",
    "\n",
    "とりあえず多対一、一対一のテストに通るかを試してみる。"
   ]
  },
  {
   "cell_type": "code",
   "execution_count": 2,
   "metadata": {
    "collapsed": false
   },
   "outputs": [
    {
     "name": "stderr",
     "output_type": "stream",
     "text": [
      "\u001b[1m\u001b[36mINFO: \u001b[39m\u001b[22m\u001b[36mTesting MyMatching\n",
      "\u001b[39m"
     ]
    },
    {
     "name": "stdout",
     "output_type": "stream",
     "text": [
      "\u001b[1m\u001b[37mTest Summary:               | \u001b[39m\u001b[22m\u001b[1m\u001b[32mPass  \u001b[39m\u001b[22m\u001b[1m\u001b[36mTotal\u001b[39m\u001b[22m\n",
      "Testing deferred acceptance | \u001b[32m  18  \u001b[39m\u001b[36m   18\u001b[39m\n"
     ]
    },
    {
     "name": "stderr",
     "output_type": "stream",
     "text": [
      "\u001b[1m\u001b[36mINFO: \u001b[39m\u001b[22m\u001b[36mMyMatching tests passed\n",
      "\u001b[39m"
     ]
    }
   ],
   "source": [
    "Pkg.test(\"MyMatching\")"
   ]
  },
  {
   "cell_type": "markdown",
   "metadata": {},
   "source": [
    "通った。\n",
    "\n",
    "多対多は[ランダムな選好表を生成する関数](https://github.com/oyamad/MatchingMarkets.jl)で例を用いてテストしてみた。"
   ]
  },
  {
   "cell_type": "code",
   "execution_count": 3,
   "metadata": {
    "collapsed": false
   },
   "outputs": [],
   "source": [
    "using MatchingMarkets"
   ]
  },
  {
   "cell_type": "code",
   "execution_count": 4,
   "metadata": {
    "collapsed": false
   },
   "outputs": [
    {
     "data": {
      "text/plain": [
       "mat2vecs (generic function with 1 method)"
      ]
     },
     "execution_count": 4,
     "metadata": {},
     "output_type": "execute_result"
    }
   ],
   "source": [
    "function mat2vecs{T<:Integer}(prefs::Matrix{T})\n",
    "    return [prefs[1:findfirst(prefs[:, j], 0)-1, j] for j in 1:size(prefs, 2)]\n",
    "end"
   ]
  },
  {
   "cell_type": "markdown",
   "metadata": {},
   "source": [
    "## 例1\n",
    "```\n",
    "In [4]:\n",
    "prop_prefs, resp_prefs = mat2vecs.(random_prefs(5, 3, allow_unmatched = false))\n",
    "\n",
    "Out[4]:\n",
    "(Array{Int64,1}[[2, 1, 3], [3, 1, 2], [1, 3, 2], [1, 3, 2], [1, 2, 3]], Array{Int64,1}[[1, 3, 2, 5, 4], [5, 1, 3, 2, 4], [3, 5, 2, 4, 1]])\n",
    "\n",
    "In [5]:\n",
    "p_caps = [1, 1, 1, 2, 2]\n",
    "r_caps = [2, 2, 3];\n",
    "\n",
    "In [6]:\n",
    "my_deferred_acceptance(prop_prefs, resp_prefs, p_caps, r_caps)\n",
    "\n",
    "Out[6]:\n",
    "([2, 3, 1, 3, 0, 1, 2], [5, 3, 5, 1, 0, 4, 2], [1, 2, 3, 4, 6, 8], [1, 3, 5, 8])\n",
    "```\n",
    "受入側の枠が提案側の枠の分だけあっても選好次第でマッチングが成立しない。"
   ]
  },
  {
   "cell_type": "markdown",
   "metadata": {},
   "source": [
    "## 例2\n",
    "```\n",
    "In [7]:\n",
    "prop_prefs, resp_prefs = mat2vecs.(random_prefs(5, 3, allow_unmatched = false))\n",
    "\n",
    "Out[7]:\n",
    "(Array{Int64,1}[[1, 2, 3], [1, 3, 2], [2, 1, 3], [2, 1, 3], [2, 1, 3]], Array{Int64,1}[[2, 1, 5, 4, 3], [4, 2, 1, 5, 3], [3, 2, 4, 1, 5]])\n",
    "\n",
    "In [8]:\n",
    "p_caps = [1, 1, 1, 2, 2]\n",
    "r_caps = [2, 2, 3];\n",
    "\n",
    "In [9]:\n",
    "my_deferred_acceptance(prop_prefs, resp_prefs, p_caps, r_caps)\n",
    "\n",
    "Out[9]:\n",
    "([1, 1, 3, 2, 3, 2, 3], [2, 1, 4, 5, 5, 4, 3], [1, 2, 3, 4, 6, 8], [1, 3, 5, 8])\n",
    "```"
   ]
  },
  {
   "cell_type": "markdown",
   "metadata": {},
   "source": [
    "## 例3\n",
    "```\n",
    "In [10]:\n",
    "prop_prefs, resp_prefs = mat2vecs.(random_prefs(7, 4))\n",
    "\n",
    "Out[10]:\n",
    "(Array{Int64,1}[[4, 3], [2, 3, 4, 1], [3, 1], [1], [1, 3], [4, 3, 1], [1, 2, 3]], Array{Int64,1}[[6, 2, 5, 4, 1], [3, 6, 5, 2, 7, 1, 4], [2, 3], [5, 3]])\n",
    "\n",
    "In [11]:\n",
    "p_caps = [1, 1, 2, 1, 1, 2, 1]\n",
    "r_caps = [3, 3, 1, 2];\n",
    "\n",
    "In [12]:\n",
    "my_deferred_acceptance(prop_prefs, resp_prefs, p_caps, r_caps)\n",
    "\n",
    "Out[12]:\n",
    "([0, 2, 3, 0, 1, 1, 1, 0, 2], [6, 5, 4, 0, 7, 2, 3, 0, 0], [1, 2, 3, 5, 6, 7, 9, 10], [1, 4, 7, 8, 10])\n",
    "```"
   ]
  },
  {
   "cell_type": "markdown",
   "metadata": {},
   "source": [
    "いずれも望ましい結果が得られた。"
   ]
  },
  {
   "cell_type": "markdown",
   "metadata": {},
   "source": [
    "## ２．受入側の戦略的行動\n",
    "以下では受入側の内一人が真の選好とは異なる「ウソのリスト」を示した時、その人が得をするマッチング結果を得られるかを調べたい。\n",
    "\n",
    "ここでは提案側と受入側が一対一のマッチングという状況を仮定する。\n",
    "\n",
    "まず、受入側の一人一人が実際に「ウソのリスト」を示した時に得られるマッチング結果が当人にとってより望ましいものになるかを逐一調べる関数を作る。"
   ]
  },
  {
   "cell_type": "code",
   "execution_count": 8,
   "metadata": {
    "collapsed": false
   },
   "outputs": [
    {
     "data": {
      "text/plain": [
       "strategic_pref (generic function with 1 method)"
      ]
     },
     "execution_count": 8,
     "metadata": {},
     "output_type": "execute_result"
    }
   ],
   "source": [
    "function strategic_pref(m_prefs::Vector{Vector{Int}},\n",
    "                        f_prefs::Vector{Vector{Int}},\n",
    "                        m_matched::Vector{Int},\n",
    "                        f_matched::Vector{Int},\n",
    "                        p_count::Vector{Int})\n",
    "#p_countは受入側が真の選好リストのマッチングの過程で提案された回数（受入、拒否どちらも含む）\n",
    "\n",
    "    m = length(m_prefs)\n",
    "    n = length(f_prefs)\n",
    "    \n",
    "    #「ウソのリスト」を示すことでより望ましい結果を得ることがない受入側の人の必要条件\n",
    "    f_require = zeros(Int64, n)\n",
    "    for i in 1:n\n",
    "        if f_matched[i] == f_prefs[i][1] #真の選好リストのマッチング結果が最も望ましい\n",
    "            f_require[i] = 1\n",
    "        end\n",
    "        if p_count[i] <= 1 #マッチングの過程を通して一度しか提案されてない人\n",
    "            f_require[i] = 1\n",
    "        end\n",
    "    end\n",
    "\n",
    "    for i in 1:n\n",
    "        if f_require[i] == 0 #「ウソのリスト」を示すことでより望ましい結果を得る受入側の人の必要条件\n",
    "            f_new_prefs = copy(f_prefs)\n",
    "            for j in 1:m #jは「ウソのリスト」上で0より選好度が高い男性の人数の数\n",
    "                false_prefs = collect(permutations(collect(1:1:m), j))\n",
    "                for l in 1:length(false_prefs)\n",
    "                    f_new_prefs[i] = false_prefs[l] #「ウソのリスト」一つ一つに対してマッチング結果がどう変わるか\n",
    "                    m_new_matched, f_new_matched = my_deferred_acceptance(m_prefs, f_new_prefs)\n",
    "                    if findfirst(f_prefs, f_new_matched[i]) < findfirst(f_prefs, f_matched[i])\n",
    "                        print(m_prefs, f_prefs, \"$i, \", f_prefs[i], f_matched[i], false_prefs[l], f_new_matched[i])\n",
    "                    end\n",
    "                end\n",
    "            end\n",
    "        end\n",
    "    end\n",
    "end"
   ]
  },
  {
   "cell_type": "markdown",
   "metadata": {},
   "source": [
    "false_prefsは[0, 1, 2, ... , m]を並び替えたときの0より手前の順列を全て列挙することで「ウソのリスト」全てを吟味している。ここでは、[順列を列挙するパッケージ(Combinatorics.jl)](https://github.com/JuliaMath/Combinatorics.jl/tree/master/src)を用いている。\n",
    "\n",
    "例えばm = 4, j = 2の時、\n",
    "\n",
    "In [24]:\n",
    "collect(permutations(collect(1:1:4), 2))\n",
    "\n",
    "Out[24]:\n",
    "12-element Array{Array{Int64,1},1}:\n",
    " [1, 2]\n",
    " [1, 3]\n",
    " [1, 4]\n",
    " [2, 1]\n",
    " [2, 3]\n",
    " [2, 4]\n",
    " [3, 1]\n",
    " [3, 2]\n",
    " [3, 4]\n",
    " [4, 1]\n",
    " [4, 2]\n",
    " [4, 3]\n",
    " \n",
    "によって、0より手前に二人いるときの「ウソのリスト」全てを列挙できる。"
   ]
  },
  {
   "cell_type": "markdown",
   "metadata": {},
   "source": [
    "以下では[ランダムな選好表を生成する関数](https://github.com/oyamad/MatchingMarkets.jl)で生成された選好表に対して、受入側の内一人が真の選好とは異なる「ウソのリスト」を示した時、その人が得をするマッチング結果を得られるかを調べている。"
   ]
  },
  {
   "cell_type": "code",
   "execution_count": 21,
   "metadata": {
    "collapsed": false
   },
   "outputs": [],
   "source": [
    "using Combinatorics\n",
    "m_num = 8 #男性の人数\n",
    "f_num = 8 #女性の人数\n",
    "for k in 1:100 #ランダムな選好表を何個作るか\n",
    "    m_prefs, f_prefs = mat2vecs.(random_prefs(m_num, f_num))\n",
    "    m_matched, f_matched, p_count = my_deferred_acceptance(m_prefs, f_prefs)\n",
    "    strategic_pref(m_prefs, f_prefs, m_matched, f_matched, p_count)\n",
    "end"
   ]
  },
  {
   "cell_type": "markdown",
   "metadata": {},
   "source": [
    "提案側、受入側ともに8人で何度か回してみたが、数値例は得られなかった。\n",
    "\n",
    "以下は、参考までに選好表に全員をリストしなければならない(独り身を許さない)ときに使う関数。"
   ]
  },
  {
   "cell_type": "code",
   "execution_count": 25,
   "metadata": {
    "collapsed": false
   },
   "outputs": [
    {
     "data": {
      "text/plain": [
       "strategic_pref2 (generic function with 1 method)"
      ]
     },
     "execution_count": 25,
     "metadata": {},
     "output_type": "execute_result"
    }
   ],
   "source": [
    "function strategic_pref2(m_prefs::Vector{Vector{Int}},\n",
    "                        f_prefs::Vector{Vector{Int}},\n",
    "                        m_matched::Vector{Int},\n",
    "                        f_matched::Vector{Int},\n",
    "                        p_count::Vector{Int})\n",
    "#p_countは受入側が真の選好リストのマッチングの過程で提案された回数（受入、拒否どちらも含む）\n",
    "\n",
    "    m = length(m_prefs)\n",
    "    n = length(f_prefs)\n",
    "    \n",
    "    #「ウソのリスト」を示すことでより望ましい結果を得るための受入側個人の必要条件\n",
    "    f_require = zeros(Int64, n)\n",
    "    for i in 1:n\n",
    "        if f_matched[i] == f_prefs[i][1]\n",
    "            f_require[i] = 1\n",
    "        end\n",
    "        if p_count[i] <= 1\n",
    "            f_require[i] = 1\n",
    "        end\n",
    "    end\n",
    "\n",
    "    for i in 1:n\n",
    "        if f_require[i] == 0\n",
    "            f_new_prefs = copy(f_prefs)\n",
    "            false_prefs = collect(permutations(collect(1:1:m)))\n",
    "            for l in 1:length(false_prefs)\n",
    "                f_new_prefs[i] = false_prefs[l] #「ウソのリスト」一つ一つに対してマッチング結果がどう変わるか\n",
    "                m_new_matched, f_new_matched = my_deferred_acceptance(m_prefs, f_new_prefs)\n",
    "                if findfirst(f_prefs, f_new_matched[i]) < findfirst(f_prefs, f_matched[i])\n",
    "                    print(m_prefs, f_prefs, \"$i, \", f_prefs[i], f_matched[i], false_prefs[l], f_new_matched)\n",
    "                end\n",
    "            end\n",
    "        end\n",
    "    end\n",
    "end"
   ]
  },
  {
   "cell_type": "code",
   "execution_count": null,
   "metadata": {
    "collapsed": true
   },
   "outputs": [],
   "source": []
  }
 ],
 "metadata": {
  "kernelspec": {
   "display_name": "Julia 0.6.0",
   "language": "julia",
   "name": "julia-0.6"
  },
  "language_info": {
   "file_extension": ".jl",
   "mimetype": "application/julia",
   "name": "julia",
   "version": "0.6.0"
  }
 },
 "nbformat": 4,
 "nbformat_minor": 2
}
