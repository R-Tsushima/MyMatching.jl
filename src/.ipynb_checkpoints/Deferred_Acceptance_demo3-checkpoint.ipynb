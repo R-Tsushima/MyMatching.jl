{
 "cells": [
  {
   "cell_type": "code",
   "execution_count": 1,
   "metadata": {
    "collapsed": false
   },
   "outputs": [],
   "source": [
    "using MyMatching"
   ]
  },
  {
   "cell_type": "code",
   "execution_count": null,
   "metadata": {
    "collapsed": false
   },
   "outputs": [
    {
     "name": "stderr",
     "output_type": "stream",
     "text": [
      "\u001b[1m\u001b[34mINFO: Testing MyMatching\n",
      "\u001b[0m"
     ]
    }
   ],
   "source": [
    "Pkg.test(\"MyMatching\")"
   ]
  },
  {
   "cell_type": "code",
   "execution_count": 3,
   "metadata": {
    "collapsed": false
   },
   "outputs": [
    {
     "ename": "LoadError",
     "evalue": "ArgumentError: Module Matching not found in current path.\nRun `Pkg.add(\"Matching\")` to install the Matching package.",
     "output_type": "error",
     "traceback": [
      "ArgumentError: Module Matching not found in current path.\nRun `Pkg.add(\"Matching\")` to install the Matching package.",
      "",
      " in require(::Symbol) at .\\loading.jl:365"
     ]
    }
   ],
   "source": [
    "using Matching"
   ]
  },
  {
   "cell_type": "code",
   "execution_count": 6,
   "metadata": {
    "collapsed": false
   },
   "outputs": [
    {
     "name": "stderr",
     "output_type": "stream",
     "text": [
      "\u001b[1m\u001b[34mINFO: Updating METADATA...\n",
      "\u001b[0m\u001b[1m\u001b[34mINFO: Updating MyMatching master...\n",
      "\u001b[0m\u001b[1m\u001b[34mINFO: Updating MyInterpolations master...\n",
      "\u001b[0m\u001b[1m\u001b[34mINFO: Updating ShingakuMatching master...\n",
      "\u001b[0m\u001b[1m\u001b[34mINFO: Updating Matching master...\n",
      "\u001b[0m\u001b[1m\u001b[34mINFO: Computing changes...\n",
      "\u001b[0m\u001b[1m\u001b[31mWARNING: julia is fixed at 0.5.1 conflicting with requirement for ShingakuMatching: [0.6.0,∞)\u001b[0m\n",
      "\u001b[1m\u001b[31mWARNING: julia is fixed at 0.5.1 conflicting with requirement for Matching: [0.6.0,∞)\u001b[0m\n",
      "\u001b[1m\u001b[34mINFO: No packages to install, update or remove\n",
      "\u001b[0m"
     ]
    }
   ],
   "source": [
    "Pkg.update()"
   ]
  },
  {
   "cell_type": "code",
   "execution_count": 2,
   "metadata": {
    "collapsed": false
   },
   "outputs": [
    {
     "name": "stderr",
     "output_type": "stream",
     "text": [
      "\u001b[1m\u001b[34mINFO: Cloning Matching from https://github.com/oyamad/Matching.jl\n",
      "\u001b[0m"
     ]
    },
    {
     "ename": "LoadError",
     "evalue": "Matching already exists",
     "output_type": "error",
     "traceback": [
      "Matching already exists",
      "",
      " in clone(::String, ::SubString{String}) at .\\pkg\\entry.jl:193",
      " in clone(::String) at .\\pkg\\entry.jl:221",
      " in (::Base.Pkg.Dir.##2#3{Array{Any,1},Base.Pkg.Entry.#clone,Tuple{String}})() at .\\pkg\\dir.jl:31",
      " in cd(::Base.Pkg.Dir.##2#3{Array{Any,1},Base.Pkg.Entry.#clone,Tuple{String}}, ::String) at .\\file.jl:48",
      " in #cd#1(::Array{Any,1}, ::Function, ::Function, ::String, ::Vararg{Any,N}) at .\\pkg\\dir.jl:31",
      " in clone(::String) at .\\pkg\\pkg.jl:151"
     ]
    }
   ],
   "source": [
    "Pkg.clone(\"https://github.com/oyamad/Matching.jl\")"
   ]
  },
  {
   "cell_type": "code",
   "execution_count": 16,
   "metadata": {
    "collapsed": false
   },
   "outputs": [
    {
     "name": "stderr",
     "output_type": "stream",
     "text": [
      "WARNING: Method definition "
     ]
    },
    {
     "data": {
      "text/plain": [
       "mat2vecs (generic function with 1 method)"
      ]
     },
     "execution_count": 16,
     "metadata": {},
     "output_type": "execute_result"
    },
    {
     "name": "stderr",
     "output_type": "stream",
     "text": [
      "mat2vecs(Array{#T<:Integer, 2}) in module Main at In[11]:2 overwritten at In[16]:2.\n"
     ]
    }
   ],
   "source": [
    "function mat2vecs{T<:Integer}(prefs::Matrix{T})\n",
    "    return [prefs[1:findfirst(prefs[:, j], 0)-1, j] for j in 1:size(prefs, 2)]\n",
    "end"
   ]
  },
  {
   "cell_type": "code",
   "execution_count": 17,
   "metadata": {
    "collapsed": false
   },
   "outputs": [
    {
     "ename": "LoadError",
     "evalue": "UndefVarError: random_prefs not defined",
     "output_type": "error",
     "traceback": [
      "UndefVarError: random_prefs not defined",
      ""
     ]
    }
   ],
   "source": [
    "prop_prefs, resp_prefs = mat2vecs.(random_prefs(7, 4))"
   ]
  },
  {
   "cell_type": "code",
   "execution_count": 12,
   "metadata": {
    "collapsed": false
   },
   "outputs": [],
   "source": [
    "p_caps = [1, 1, 2, 1, 1, 2, 1]\n",
    "r_caps = [3, 3, 1, 2];"
   ]
  },
  {
   "cell_type": "code",
   "execution_count": 13,
   "metadata": {
    "collapsed": false
   },
   "outputs": [
    {
     "data": {
      "text/plain": [
       "([0,4,1,0,3,2,2,4,0],[0,0,3,0,6,5,4,6,2],[1,2,3,5,6,7,9,10],[1,4,7,8,10])"
      ]
     },
     "execution_count": 13,
     "metadata": {},
     "output_type": "execute_result"
    }
   ],
   "source": [
    "my_deferred_acceptance(prop_prefs, resp_prefs, p_caps, r_caps)"
   ]
  },
  {
   "cell_type": "markdown",
   "metadata": {
    "collapsed": true
   },
   "source": [
    "## 例1\n",
    "```\n",
    "In [5]:\n",
    "prop_prefs, resp_prefs = mat2vecs.(random_prefs(5, 3, allow_unmatched = false))\n",
    "\n",
    "Out[5]:\n",
    "(Array{Int64,1}[[2,1,3],[1,2,3],[2,1,3],[1,3,2],[2,1,3]],Array{Int64,1}[[1,5,3,2,4],[4,2,1,5,3],[5,1,3,2,4]])\n",
    "\n",
    "In [6]:\n",
    "p_caps = [1, 1, 1, 2, 2]\n",
    "r_caps = [2, 2, 3];\n",
    "\n",
    "In [7]:\n",
    "my_deferred_acceptance(prop_prefs, resp_prefs, p_caps, r_caps)\n",
    "\n",
    "Out[7]:\n",
    "([1,2,3,3,2,3,1],[1,5,2,4,3,5,4],[1,2,3,4,6,8],[1,3,5,8])\n",
    "```"
   ]
  },
  {
   "cell_type": "markdown",
   "metadata": {},
   "source": [
    "## 例2\n",
    "```\n",
    "In [8]:\n",
    "prop_prefs, resp_prefs = mat2vecs.(random_prefs(5, 3, allow_unmatched = false))\n",
    "\n",
    "Out[8]:\n",
    "(Array{Int64,1}[[3,1,2],[3,1,2],[2,3,1],[3,1,2],[1,3,2]],Array{Int64,1}[[5,4,2,3,1],[5,2,3,4,1],[5,4,1,2,3]])\n",
    "\n",
    "In [9]:\n",
    "p_caps = [1, 1, 1, 2, 2]\n",
    "r_caps = [1, 3, 3];\n",
    "\n",
    "In [10]:\n",
    "my_deferred_acceptance(prop_prefs, resp_prefs, p_caps, r_caps)\n",
    "\n",
    "Out[10]:\n",
    "([3,2,2,3,2,1,3],[5,2,4,3,4,5,1],[1,2,3,4,6,8],[1,2,5,8])\n",
    "```"
   ]
  },
  {
   "cell_type": "markdown",
   "metadata": {},
   "source": [
    "## 例3\n",
    "```\n",
    "In [11]:\n",
    "prop_prefs, resp_prefs = mat2vecs.(random_prefs(7, 4))\n",
    "\n",
    "Out[11]:\n",
    "(Array{Int64,1}[[3,4],[4,3,2],[2,4,1,3],[3,2],[2,4],[3,2,4],[3]],Array{Int64,1}[[3,7,6,4,5,2],[2,4,5,7,6],[4,1,3],[4,6,2]])\n",
    "\n",
    "In [12]:\n",
    "p_caps = [1, 1, 2, 1, 1, 2, 1]\n",
    "r_caps = [3, 3, 1, 2];\n",
    "\n",
    "In [13]:\n",
    "my_deferred_acceptance(prop_prefs, resp_prefs, p_caps, r_caps)\n",
    "\n",
    "Out[13]:\n",
    "([0,4,1,0,3,2,2,4,0],[0,0,3,0,6,5,4,6,2],[1,2,3,5,6,7,9,10],[1,4,7,8,10])\n",
    "```"
   ]
  },
  {
   "cell_type": "code",
   "execution_count": 20,
   "metadata": {
    "collapsed": false
   },
   "outputs": [
    {
     "data": {
      "text/plain": [
       "(Array{Int64,1}[[2,3,1,4],[2,1,3,4],[1,4,2,3],[3,1,2,4]],Array{Int64,1}[[4,1,2,3],[3,2,4,1],[4,3,2,1],[2,3,4,1]])"
      ]
     },
     "execution_count": 20,
     "metadata": {},
     "output_type": "execute_result"
    }
   ],
   "source": [
    "m_prefs, f_prefs = mat2vecs.(random_prefs(4, 4, allow_unmatched = false))"
   ]
  },
  {
   "cell_type": "code",
   "execution_count": 21,
   "metadata": {
    "collapsed": false
   },
   "outputs": [
    {
     "data": {
      "text/plain": [
       "([1,2,4,3],[1,2,4,3])"
      ]
     },
     "execution_count": 21,
     "metadata": {},
     "output_type": "execute_result"
    }
   ],
   "source": [
    "m_matched, f_matched = my_deferred_acceptance(m_prefs, f_prefs)"
   ]
  },
  {
   "cell_type": "code",
   "execution_count": 22,
   "metadata": {
    "collapsed": false
   },
   "outputs": [
    {
     "data": {
      "text/plain": [
       "4-element Array{Int64,1}:\n",
       " 0\n",
       " 0\n",
       " 1\n",
       " 0"
      ]
     },
     "execution_count": 22,
     "metadata": {},
     "output_type": "execute_result"
    }
   ],
   "source": [
    "strategic_pref(m_prefs, f_prefs, m_matched, f_matched)"
   ]
  },
  {
   "cell_type": "code",
   "execution_count": 47,
   "metadata": {
    "collapsed": false
   },
   "outputs": [
    {
     "data": {
      "text/plain": [
       "([1,3,4,2],[1,4,2,3])"
      ]
     },
     "execution_count": 47,
     "metadata": {},
     "output_type": "execute_result"
    }
   ],
   "source": [
    "my_deferred_acceptance(f_prefs, m_prefs)"
   ]
  },
  {
   "cell_type": "code",
   "execution_count": 58,
   "metadata": {
    "collapsed": false
   },
   "outputs": [
    {
     "name": "stdout",
     "output_type": "stream",
     "text": [
      "false"
     ]
    }
   ],
   "source": [
    "strategic_pref(m_prefs, f_prefs, f_matched, 1, [4,3,2,1])"
   ]
  },
  {
   "cell_type": "code",
   "execution_count": 67,
   "metadata": {
    "collapsed": false
   },
   "outputs": [
    {
     "data": {
      "text/plain": [
       "5-element Array{Int64,1}:\n",
       " 1\n",
       " 2\n",
       " 3\n",
       " 4\n",
       " 5"
      ]
     },
     "execution_count": 67,
     "metadata": {},
     "output_type": "execute_result"
    }
   ],
   "source": [
    "A = collect(1:1:5)"
   ]
  },
  {
   "cell_type": "code",
   "execution_count": 76,
   "metadata": {
    "collapsed": false
   },
   "outputs": [
    {
     "data": {
      "text/plain": [
       "24"
      ]
     },
     "execution_count": 76,
     "metadata": {},
     "output_type": "execute_result"
    }
   ],
   "source": [
    "factorial(4)"
   ]
  },
  {
   "cell_type": "code",
   "execution_count": 120,
   "metadata": {
    "collapsed": false
   },
   "outputs": [
    {
     "data": {
      "text/plain": [
       "3-element Array{Int64,1}:\n",
       " 1\n",
       " 2\n",
       " 3"
      ]
     },
     "execution_count": 120,
     "metadata": {},
     "output_type": "execute_result"
    }
   ],
   "source": [
    "A = [1,2,3]"
   ]
  },
  {
   "cell_type": "code",
   "execution_count": 6,
   "metadata": {
    "collapsed": false
   },
   "outputs": [],
   "source": [
    "using Combinatorics"
   ]
  },
  {
   "cell_type": "code",
   "execution_count": 9,
   "metadata": {
    "collapsed": false
   },
   "outputs": [
    {
     "data": {
      "text/plain": [
       "24-element Array{Array{Int64,1},1}:\n",
       " [1,2,3,4]\n",
       " [1,2,4,3]\n",
       " [1,3,2,4]\n",
       " [1,3,4,2]\n",
       " [1,4,2,3]\n",
       " [1,4,3,2]\n",
       " [2,1,3,4]\n",
       " [2,1,4,3]\n",
       " [2,3,1,4]\n",
       " [2,3,4,1]\n",
       " [2,4,1,3]\n",
       " [2,4,3,1]\n",
       " [3,1,2,4]\n",
       " [3,1,4,2]\n",
       " [3,2,1,4]\n",
       " [3,2,4,1]\n",
       " [3,4,1,2]\n",
       " [3,4,2,1]\n",
       " [4,1,2,3]\n",
       " [4,1,3,2]\n",
       " [4,2,1,3]\n",
       " [4,2,3,1]\n",
       " [4,3,1,2]\n",
       " [4,3,2,1]"
      ]
     },
     "execution_count": 9,
     "metadata": {},
     "output_type": "execute_result"
    }
   ],
   "source": [
    "collect(permutations([1,2,3,4]))"
   ]
  },
  {
   "cell_type": "code",
   "execution_count": null,
   "metadata": {
    "collapsed": true
   },
   "outputs": [],
   "source": []
  }
 ],
 "metadata": {
  "kernelspec": {
   "display_name": "Julia 0.5.1",
   "language": "julia",
   "name": "julia-0.5"
  },
  "language_info": {
   "file_extension": ".jl",
   "mimetype": "application/julia",
   "name": "julia",
   "version": "0.5.1"
  }
 },
 "nbformat": 4,
 "nbformat_minor": 2
}
