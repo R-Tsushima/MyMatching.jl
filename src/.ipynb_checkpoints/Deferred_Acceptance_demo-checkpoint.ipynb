{
 "cells": [
  {
   "cell_type": "code",
   "execution_count": 2,
   "metadata": {
    "collapsed": false
   },
   "outputs": [
    {
     "ename": "LoadError",
     "evalue": "ArgumentError: Module MyMatching not found in current path.\nRun `Pkg.add(\"MyMatching\")` to install the MyMatching package.",
     "output_type": "error",
     "traceback": [
      "ArgumentError: Module MyMatching not found in current path.\nRun `Pkg.add(\"MyMatching\")` to install the MyMatching package.",
      "",
      " in require(::Symbol) at .\\loading.jl:365"
     ]
    }
   ],
   "source": [
    "using MyMatching"
   ]
  },
  {
   "cell_type": "code",
   "execution_count": null,
   "metadata": {
    "collapsed": false
   },
   "outputs": [],
   "source": [
    "Pkg.clone(\"https://github.com/R-Tsushima/MyMatching.jl\")"
   ]
  },
  {
   "cell_type": "code",
   "execution_count": null,
   "metadata": {
    "collapsed": true
   },
   "outputs": [],
   "source": []
  }
 ],
 "metadata": {
  "kernelspec": {
   "display_name": "Julia 0.5.1",
   "language": "julia",
   "name": "julia-0.5"
  },
  "language_info": {
   "file_extension": ".jl",
   "mimetype": "application/julia",
   "name": "julia",
   "version": "0.5.1"
  }
 },
 "nbformat": 4,
 "nbformat_minor": 2
}
