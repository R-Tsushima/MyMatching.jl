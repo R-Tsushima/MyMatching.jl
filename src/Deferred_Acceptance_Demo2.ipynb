{
 "cells": [
  {
   "cell_type": "code",
   "execution_count": 1,
   "metadata": {
    "collapsed": false
   },
   "outputs": [
    {
     "name": "stderr",
     "output_type": "stream",
     "text": [
      "\u001b[1m\u001b[34mINFO: Checking out MyMatching master...\n",
      "\u001b[0m\u001b[1m\u001b[34mINFO: Pulling MyMatching latest master...\n",
      "\u001b[0m\u001b[1m\u001b[34mINFO: No packages to install, update or remove\n",
      "\u001b[0m"
     ]
    }
   ],
   "source": [
    "Pkg.checkout(\"MyMatching\", \"master\")"
   ]
  },
  {
   "cell_type": "code",
   "execution_count": 2,
   "metadata": {
    "collapsed": true
   },
   "outputs": [],
   "source": [
    "using MyMatching"
   ]
  },
  {
   "cell_type": "code",
   "execution_count": 3,
   "metadata": {
    "collapsed": false
   },
   "outputs": [
    {
     "name": "stderr",
     "output_type": "stream",
     "text": [
      "\u001b[1m\u001b[34mINFO: Testing MyMatching\n",
      "\u001b[0m\u001b[1m\u001b[31m=============================[ ERROR: MyMatching ]==============================\u001b[0m\n",
      "\n",
      "\u001b[1m\u001b[31mfailed process: Process(`'C:\\Users\\r28yn\\AppData\\Local\\Julia-0.5.1\\bin\\julia' -Cx86-64 '-JC:\\Users\\r28yn\\AppData\\Local\\Julia-0.5.1\\lib\\julia\\sys.dll' --compile=yes --depwarn=yes --check-bounds=yes --code-coverage=none --color=yes --compilecache=yes 'C:\\Users\\r28yn\\.julia\\v0.5\\MyMatching\\test\\runtests.jl'`, ProcessExited(1)) [1]\u001b[0m\n",
      "\n",
      "\u001b[1m\u001b[31m================================================================================\u001b[0m\n"
     ]
    },
    {
     "ename": "LoadError",
     "evalue": "MyMatching had test errors",
     "output_type": "error",
     "traceback": [
      "MyMatching had test errors",
      "",
      " in #test#61(::Bool, ::Function, ::Array{AbstractString,1}) at .\\pkg\\entry.jl:749",
      " in (::Base.Pkg.Entry.#kw##test)(::Array{Any,1}, ::Base.Pkg.Entry.#test, ::Array{AbstractString,1}) at .\\<missing>:0",
      " in (::Base.Pkg.Dir.##2#3{Array{Any,1},Base.Pkg.Entry.#test,Tuple{Array{AbstractString,1}}})() at .\\pkg\\dir.jl:31",
      " in cd(::Base.Pkg.Dir.##2#3{Array{Any,1},Base.Pkg.Entry.#test,Tuple{Array{AbstractString,1}}}, ::String) at .\\file.jl:48",
      " in #cd#1(::Array{Any,1}, ::Function, ::Function, ::Array{AbstractString,1}, ::Vararg{Array{AbstractString,1},N}) at .\\pkg\\dir.jl:31",
      " in (::Base.Pkg.Dir.#kw##cd)(::Array{Any,1}, ::Base.Pkg.Dir.#cd, ::Function, ::Array{AbstractString,1}, ::Vararg{Array{AbstractString,1},N}) at .\\<missing>:0",
      " in #test#3(::Bool, ::Function, ::String, ::Vararg{String,N}) at .\\pkg\\pkg.jl:258",
      " in test(::String, ::Vararg{String,N}) at .\\pkg\\pkg.jl:258"
     ]
    }
   ],
   "source": [
    "Pkg.test(\"MyMatching\")"
   ]
  },
  {
   "cell_type": "code",
   "execution_count": 6,
   "metadata": {
    "collapsed": false
   },
   "outputs": [
    {
     "name": "stdout",
     "output_type": "stream",
     "text": [
      "search: \u001b[1ml\u001b[22m\u001b[1mi\u001b[22m\u001b[1ms\u001b[22m\u001b[1mt\u001b[22men \u001b[1ml\u001b[22m\u001b[1mi\u001b[22m\u001b[1ms\u001b[22m\u001b[1mt\u001b[22menany Inva\u001b[1ml\u001b[22m\u001b[1mi\u001b[22md\u001b[1mS\u001b[22m\u001b[1mt\u001b[22mateException \u001b[1ml\u001b[22mcf\u001b[1mi\u001b[22mr\u001b[1ms\u001b[22m\u001b[1mt\u001b[22m norma\u001b[1ml\u001b[22m\u001b[1mi\u001b[22mze_\u001b[1ms\u001b[22m\u001b[1mt\u001b[22mring\n",
      "\n",
      "Couldn't find \u001b[36mlist\n",
      "\u001b[39mPerhaps you meant last, hist, listen, less, let, filt, Cint, Dict, Test or cis\n"
     ]
    },
    {
     "data": {
      "text/markdown": [
       "No documentation found.\n",
       "\n",
       "Binding `list` does not exist.\n"
      ],
      "text/plain": [
       "No documentation found.\n",
       "\n",
       "Binding `list` does not exist.\n"
      ]
     },
     "execution_count": 6,
     "metadata": {},
     "output_type": "execute_result"
    }
   ],
   "source": [
    "?list"
   ]
  },
  {
   "cell_type": "code",
   "execution_count": null,
   "metadata": {
    "collapsed": true
   },
   "outputs": [],
   "source": []
  }
 ],
 "metadata": {
  "kernelspec": {
   "display_name": "Julia 0.5.1",
   "language": "julia",
   "name": "julia-0.5"
  },
  "language_info": {
   "file_extension": ".jl",
   "mimetype": "application/julia",
   "name": "julia",
   "version": "0.5.1"
  }
 },
 "nbformat": 4,
 "nbformat_minor": 2
}
