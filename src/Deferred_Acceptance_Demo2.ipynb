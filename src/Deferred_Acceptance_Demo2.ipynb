{
 "cells": [
  {
   "cell_type": "code",
   "execution_count": 22,
   "metadata": {
    "collapsed": false
   },
   "outputs": [
    {
     "data": {
      "text/plain": [
       "7-element Array{Int64,1}:\n",
       " 1\n",
       " 3\n",
       " 0\n",
       " 4\n",
       " 6\n",
       " 8\n",
       " 9"
      ]
     },
     "execution_count": 22,
     "metadata": {},
     "output_type": "execute_result"
    }
   ],
   "source": [
    "A = [1,3,0,4,6,8,9]"
   ]
  },
  {
   "cell_type": "code",
   "execution_count": 38,
   "metadata": {
    "collapsed": false
   },
   "outputs": [
    {
     "data": {
      "text/plain": [
       "3-element Array{Int64,1}:\n",
       " 1\n",
       " 4\n",
       " 8"
      ]
     },
     "execution_count": 38,
     "metadata": {},
     "output_type": "execute_result"
    }
   ],
   "source": [
    "B = [1,4,8]"
   ]
  },
  {
   "cell_type": "code",
   "execution_count": 42,
   "metadata": {
    "collapsed": false
   },
   "outputs": [
    {
     "data": {
      "text/plain": [
       "6"
      ]
     },
     "execution_count": 42,
     "metadata": {},
     "output_type": "execute_result"
    }
   ],
   "source": [
    "findfirst(A,B[3])"
   ]
  },
  {
   "cell_type": "code",
   "execution_count": 45,
   "metadata": {
    "collapsed": false
   },
   "outputs": [
    {
     "name": "stdout",
     "output_type": "stream",
     "text": [
      "search: \u001b[1mm\u001b[22m\u001b[1ma\u001b[22m\u001b[1mx\u001b[22m\u001b[1mi\u001b[22m\u001b[1mm\u001b[22m\u001b[1mu\u001b[22m\u001b[1mm\u001b[22m \u001b[1mm\u001b[22m\u001b[1ma\u001b[22m\u001b[1mx\u001b[22m\u001b[1mi\u001b[22m\u001b[1mm\u001b[22m\u001b[1mu\u001b[22m\u001b[1mm\u001b[22m!\n",
      "\n"
     ]
    },
    {
     "data": {
      "text/markdown": [
       "```\n",
       "maximum(itr)\n",
       "```\n",
       "\n",
       "Returns the largest element in a collection.\n",
       "\n",
       "```jldoctest\n",
       "julia> maximum(-20.5:10)\n",
       "9.5\n",
       "\n",
       "julia> maximum([1,2,3])\n",
       "3\n",
       "```\n",
       "\n",
       "```\n",
       "maximum(A, dims)\n",
       "```\n",
       "\n",
       "Compute the maximum value of an array over the given dimensions.\n"
      ],
      "text/plain": [
       "```\n",
       "maximum(itr)\n",
       "```\n",
       "\n",
       "Returns the largest element in a collection.\n",
       "\n",
       "```jldoctest\n",
       "julia> maximum(-20.5:10)\n",
       "9.5\n",
       "\n",
       "julia> maximum([1,2,3])\n",
       "3\n",
       "```\n",
       "\n",
       "```\n",
       "maximum(A, dims)\n",
       "```\n",
       "\n",
       "Compute the maximum value of an array over the given dimensions.\n"
      ]
     },
     "execution_count": 45,
     "metadata": {},
     "output_type": "execute_result"
    }
   ],
   "source": [
    "?maximum"
   ]
  },
  {
   "cell_type": "code",
   "execution_count": 47,
   "metadata": {
    "collapsed": false
   },
   "outputs": [
    {
     "data": {
      "text/plain": [
       "7"
      ]
     },
     "execution_count": 47,
     "metadata": {},
     "output_type": "execute_result"
    }
   ],
   "source": [
    "indmax(A)"
   ]
  },
  {
   "cell_type": "code",
   "execution_count": null,
   "metadata": {
    "collapsed": true
   },
   "outputs": [],
   "source": []
  }
 ],
 "metadata": {
  "kernelspec": {
   "display_name": "Julia 0.5.1",
   "language": "julia",
   "name": "julia-0.5"
  },
  "language_info": {
   "file_extension": ".jl",
   "mimetype": "application/julia",
   "name": "julia",
   "version": "0.5.1"
  }
 },
 "nbformat": 4,
 "nbformat_minor": 2
}
