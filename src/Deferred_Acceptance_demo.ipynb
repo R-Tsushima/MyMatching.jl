{
 "cells": [
  {
   "cell_type": "code",
   "execution_count": 1,
   "metadata": {
    "collapsed": false
   },
   "outputs": [
    {
     "name": "stderr",
     "output_type": "stream",
     "text": [
      "\u001b[1m\u001b[34mINFO: Cloning MyMatching from https://github.com/R-Tsushima/MyMatching.jl\n",
      "\u001b[0m"
     ]
    },
    {
     "ename": "LoadError",
     "evalue": "MyMatching already exists",
     "output_type": "error",
     "traceback": [
      "MyMatching already exists",
      "",
      " in clone(::String, ::SubString{String}) at .\\pkg\\entry.jl:193",
      " in clone(::String) at .\\pkg\\entry.jl:221",
      " in (::Base.Pkg.Dir.##2#3{Array{Any,1},Base.Pkg.Entry.#clone,Tuple{String}})() at .\\pkg\\dir.jl:31",
      " in cd(::Base.Pkg.Dir.##2#3{Array{Any,1},Base.Pkg.Entry.#clone,Tuple{String}}, ::String) at .\\file.jl:48",
      " in #cd#1(::Array{Any,1}, ::Function, ::Function, ::String, ::Vararg{Any,N}) at .\\pkg\\dir.jl:31",
      " in clone(::String) at .\\pkg\\pkg.jl:151"
     ]
    }
   ],
   "source": [
    "Pkg.clone(\"https://github.com/R-Tsushima/MyMatching.jl\")"
   ]
  },
  {
   "cell_type": "code",
   "execution_count": 2,
   "metadata": {
    "collapsed": false
   },
   "outputs": [],
   "source": [
    "using MyMatching"
   ]
  },
  {
   "cell_type": "code",
   "execution_count": 3,
   "metadata": {
    "collapsed": false,
    "scrolled": true
   },
   "outputs": [
    {
     "name": "stderr",
     "output_type": "stream",
     "text": [
      "\u001b[1m\u001b[34mINFO: Testing MyMatching\n",
      "\u001b[0m\u001b[1m\u001b[31m=============================[ ERROR: MyMatching ]==============================\u001b[0m\n",
      "\n",
      "\u001b[1m\u001b[31mfailed process: Process(`'C:\\Users\\r28yn\\AppData\\Local\\Julia-0.5.1\\bin\\julia' -Cx86-64 '-JC:\\Users\\r28yn\\AppData\\Local\\Julia-0.5.1\\lib\\julia\\sys.dll' --compile=yes --depwarn=yes --check-bounds=yes --code-coverage=none --color=yes --compilecache=yes 'C:\\Users\\r28yn\\.julia\\v0.5\\MyMatching\\test\\runtests.jl'`, ProcessExited(1)) [1]\u001b[0m\n",
      "\n",
      "\u001b[1m\u001b[31m================================================================================\u001b[0m\n"
     ]
    },
    {
     "ename": "LoadError",
     "evalue": "MyMatching had test errors",
     "output_type": "error",
     "traceback": [
      "MyMatching had test errors",
      "",
      " in #test#61(::Bool, ::Function, ::Array{AbstractString,1}) at .\\pkg\\entry.jl:749",
      " in (::Base.Pkg.Entry.#kw##test)(::Array{Any,1}, ::Base.Pkg.Entry.#test, ::Array{AbstractString,1}) at .\\<missing>:0",
      " in (::Base.Pkg.Dir.##2#3{Array{Any,1},Base.Pkg.Entry.#test,Tuple{Array{AbstractString,1}}})() at .\\pkg\\dir.jl:31",
      " in cd(::Base.Pkg.Dir.##2#3{Array{Any,1},Base.Pkg.Entry.#test,Tuple{Array{AbstractString,1}}}, ::String) at .\\file.jl:48",
      " in #cd#1(::Array{Any,1}, ::Function, ::Function, ::Array{AbstractString,1}, ::Vararg{Array{AbstractString,1},N}) at .\\pkg\\dir.jl:31",
      " in (::Base.Pkg.Dir.#kw##cd)(::Array{Any,1}, ::Base.Pkg.Dir.#cd, ::Function, ::Array{AbstractString,1}, ::Vararg{Array{AbstractString,1},N}) at .\\<missing>:0",
      " in #test#3(::Bool, ::Function, ::String, ::Vararg{String,N}) at .\\pkg\\pkg.jl:258",
      " in test(::String, ::Vararg{String,N}) at .\\pkg\\pkg.jl:258"
     ]
    }
   ],
   "source": [
    "Pkg.test(\"MyMatching\")"
   ]
  },
  {
   "cell_type": "code",
   "execution_count": 1,
   "metadata": {
    "collapsed": false
   },
   "outputs": [
    {
     "data": {
      "text/plain": [
       "4-element Array{Array{Int64,1},1}:\n",
       " [3]    \n",
       " [3,2,1]\n",
       " [1,3,2]\n",
       " [3,1]  "
      ]
     },
     "execution_count": 1,
     "metadata": {},
     "output_type": "execute_result"
    }
   ],
   "source": [
    "m_prefs = [[3], [3, 2, 1], [1, 3, 2], [3, 1]]"
   ]
  },
  {
   "cell_type": "code",
   "execution_count": 2,
   "metadata": {
    "collapsed": false
   },
   "outputs": [
    {
     "data": {
      "text/plain": [
       "3-element Array{Array{Int64,1},1}:\n",
       " [2,3]    \n",
       " [2,3,4,1]\n",
       " [4,1,2]  "
      ]
     },
     "execution_count": 2,
     "metadata": {},
     "output_type": "execute_result"
    }
   ],
   "source": [
    "f_prefs = [[2, 3], [2, 3, 4, 1], [4, 1, 2]]"
   ]
  },
  {
   "cell_type": "code",
   "execution_count": 1,
   "metadata": {
    "collapsed": false
   },
   "outputs": [
    {
     "name": "stderr",
     "output_type": "stream",
     "text": [
      "\u001b[1m\u001b[34mINFO: Checking out MyMatching master...\n",
      "\u001b[0m\u001b[1m\u001b[34mINFO: Pulling MyMatching latest master...\n",
      "\u001b[0m\u001b[1m\u001b[34mINFO: No packages to install, update or remove\n",
      "\u001b[0m"
     ]
    }
   ],
   "source": [
    "Pkg.checkout(\"MyMatching\", \"master\")"
   ]
  },
  {
   "cell_type": "code",
   "execution_count": 24,
   "metadata": {
    "collapsed": false
   },
   "outputs": [
    {
     "data": {
      "text/plain": [
       "3"
      ]
     },
     "execution_count": 24,
     "metadata": {},
     "output_type": "execute_result"
    }
   ],
   "source": [
    "m_prefs[2][1]"
   ]
  },
  {
   "cell_type": "code",
   "execution_count": 13,
   "metadata": {
    "collapsed": false
   },
   "outputs": [
    {
     "data": {
      "text/plain": [
       "0"
      ]
     },
     "execution_count": 13,
     "metadata": {},
     "output_type": "execute_result"
    }
   ],
   "source": [
    "findfirst(f_prefs[3], 3)"
   ]
  },
  {
   "cell_type": "code",
   "execution_count": 21,
   "metadata": {
    "collapsed": false
   },
   "outputs": [
    {
     "name": "stderr",
     "output_type": "stream",
     "text": [
      "WARNING: Method definition "
     ]
    },
    {
     "data": {
      "text/plain": [
       "deferred_acceptance (generic function with 1 method)"
      ]
     },
     "execution_count": 21,
     "metadata": {},
     "output_type": "execute_result"
    },
    {
     "name": "stderr",
     "output_type": "stream",
     "text": [
      "deferred_acceptance(Array{Array{Int64, 1}, 1}, Array{Array{Int64, 1}, 1}) in module Main at In[19]:2 overwritten at In[21]:2.\n"
     ]
    }
   ],
   "source": [
    "function deferred_acceptance(m_prefs::Vector{Vector{Int}},f_prefs::Vector{Vector{Int}})\n",
    "    m_size = length(m_prefs)\n",
    "    f_size = length(f_prefs)\n",
    "    m_matched = zeros(Int64,m_size)\n",
    "    f_matched = zeros(Int64,f_size)\n",
    "    m_prp = ones(Int64,m_size)\n",
    "    for j in 1:f_size\n",
    "        for i in 1:m_size\n",
    "            if m_prp[i] > length(m_prefs[i])\n",
    "                m_matched[i] = 0\n",
    "            end\n",
    "            if m_matched[i] == 0 && m_prp[i] <= length(m_prefs[i])\n",
    "                if f_matched[m_prefs[i][m_prp[i]]] == 0\n",
    "                    if findfirst(f_prefs[m_prefs[i]][m_prp[i]], i) == 0\n",
    "                        f_matched[m_prefs[i][m_prp[i]]] = 0\n",
    "                        m_matched[i] = 0\n",
    "                        m_prp[i]+=1\n",
    "                    else\n",
    "                        f_matched[m_prefs[i][m_prp[i]]] = i\n",
    "                        m_matched[i] = m_prefs[i][m_prp[i]]\n",
    "                        m_prp[i]+=1\n",
    "                    end\n",
    "                else\n",
    "                    if findfirst(f_prefs[m_prefs[i][m_prp[i]]], f_matched[m_prefs[i]][m_prp[i]]) < findfirst(f_prefs[m_prefs[i][m_prp[i]]], i)\n",
    "                        m_matched[i] = 0\n",
    "                        m_prp[i]+=1\n",
    "                    else\n",
    "                        m_matched[f_matched[m_prefs[i]][m_prp[i]]] = 0\n",
    "                        m_matched[i] = m_prefs[i][m_prp[i]]\n",
    "                        f_matched[m_prefs[i][m_prp[i]]] = i\n",
    "                        m_prp[i]+=1\n",
    "                    end\n",
    "                end\n",
    "            end\n",
    "        end\n",
    "    end\n",
    "    return(m_matched,f_matched)\n",
    "end"
   ]
  },
  {
   "cell_type": "code",
   "execution_count": 22,
   "metadata": {
    "collapsed": false
   },
   "outputs": [
    {
     "data": {
      "text/plain": [
       "([0,2,1,3],[3,2,4])"
      ]
     },
     "execution_count": 22,
     "metadata": {},
     "output_type": "execute_result"
    }
   ],
   "source": [
    "deferred_acceptance(m_prefs, f_prefs)"
   ]
  },
  {
   "cell_type": "code",
   "execution_count": null,
   "metadata": {
    "collapsed": true
   },
   "outputs": [],
   "source": []
  }
 ],
 "metadata": {
  "kernelspec": {
   "display_name": "Julia 0.5.1",
   "language": "julia",
   "name": "julia-0.5"
  },
  "language_info": {
   "file_extension": ".jl",
   "mimetype": "application/julia",
   "name": "julia",
   "version": "0.5.1"
  }
 },
 "nbformat": 4,
 "nbformat_minor": 2
}
