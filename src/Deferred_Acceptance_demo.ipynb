{
 "cells": [
  {
   "cell_type": "code",
   "execution_count": 10,
   "metadata": {
    "collapsed": false
   },
   "outputs": [],
   "source": [
    "using MyMatching"
   ]
  },
  {
   "cell_type": "code",
   "execution_count": 6,
   "metadata": {
    "collapsed": false
   },
   "outputs": [],
   "source": [
    "m_prefs = [[3], [3, 2, 1], [1, 3, 2], [3, 1]];"
   ]
  },
  {
   "cell_type": "code",
   "execution_count": 7,
   "metadata": {
    "collapsed": false
   },
   "outputs": [],
   "source": [
    "f_prefs = [[2, 3], [2, 3, 4, 1], [4, 1, 2]];"
   ]
  },
  {
   "cell_type": "code",
   "execution_count": 11,
   "metadata": {
    "collapsed": false
   },
   "outputs": [
    {
     "ename": "LoadError",
     "evalue": "BoundsError: attempt to access 1-element Array{Int64,1} at index [2]",
     "output_type": "error",
     "traceback": [
      "BoundsError: attempt to access 1-element Array{Int64,1} at index [2]",
      "",
      " in deferred_acceptance(::Array{Array{Int64,1},1}, ::Array{Array{Int64,1},1}) at C:\\Users\\r28yn\\.julia\\v0.5\\MyMatching\\src\\MyMatching.jl:13"
     ]
    }
   ],
   "source": [
    "deferred_acceptance(m_prefs, f_prefs)"
   ]
  },
  {
   "cell_type": "code",
   "execution_count": 9,
   "metadata": {
    "collapsed": false
   },
   "outputs": [
    {
     "data": {
      "text/plain": [
       "3"
      ]
     },
     "execution_count": 9,
     "metadata": {},
     "output_type": "execute_result"
    }
   ],
   "source": [
    "m_prefs[1][1]"
   ]
  },
  {
   "cell_type": "code",
   "execution_count": 5,
   "metadata": {
    "collapsed": false
   },
   "outputs": [
    {
     "name": "stderr",
     "output_type": "stream",
     "text": [
      "WARNING: using Matching.deferred_acceptance in module Main conflicts with an existing identifier.\n"
     ]
    }
   ],
   "source": [
    "using Matching"
   ]
  },
  {
   "cell_type": "code",
   "execution_count": 6,
   "metadata": {
    "collapsed": false
   },
   "outputs": [
    {
     "data": {
      "text/plain": [
       "mat2vecs (generic function with 1 method)"
      ]
     },
     "execution_count": 6,
     "metadata": {},
     "output_type": "execute_result"
    }
   ],
   "source": [
    "function mat2vecs{T<:Integer}(prefs::Matrix{T})\n",
    "    return [prefs[1:findfirst(prefs[:, j], 0)-1, j] for j in 1:size(prefs, 2)]\n",
    "end"
   ]
  },
  {
   "cell_type": "code",
   "execution_count": 7,
   "metadata": {
    "collapsed": false
   },
   "outputs": [
    {
     "data": {
      "text/plain": [
       "(Array{Int64,1}[[1,2,3],[1,3,2],[3,2,1],[2,1,3]],Array{Int64,1}[[4,3,2,1],[1,2,4,3],[3,1,2,4]])"
      ]
     },
     "execution_count": 7,
     "metadata": {},
     "output_type": "execute_result"
    }
   ],
   "source": [
    "m_prefs, f_prefs = mat2vecs.(random_prefs(4, 3, allow_unmatched=false))"
   ]
  },
  {
   "cell_type": "code",
   "execution_count": 8,
   "metadata": {
    "collapsed": false
   },
   "outputs": [
    {
     "data": {
      "text/plain": [
       "([2,0,3,1],[4,1,3])"
      ]
     },
     "execution_count": 8,
     "metadata": {},
     "output_type": "execute_result"
    }
   ],
   "source": [
    "deferred_acceptance(m_prefs, f_prefs)"
   ]
  },
  {
   "cell_type": "code",
   "execution_count": 3,
   "metadata": {
    "collapsed": false,
    "scrolled": true
   },
   "outputs": [
    {
     "name": "stderr",
     "output_type": "stream",
     "text": [
      "\u001b[1m\u001b[34mINFO: Testing MyMatching\n",
      "\u001b[0m\u001b[1m\u001b[31m=============================[ ERROR: MyMatching ]==============================\u001b[0m\n",
      "\n",
      "\u001b[1m\u001b[31mfailed process: Process(`'C:\\Users\\r28yn\\AppData\\Local\\Julia-0.5.1\\bin\\julia' -Cx86-64 '-JC:\\Users\\r28yn\\AppData\\Local\\Julia-0.5.1\\lib\\julia\\sys.dll' --compile=yes --depwarn=yes --check-bounds=yes --code-coverage=none --color=yes --compilecache=yes 'C:\\Users\\r28yn\\.julia\\v0.5\\MyMatching\\test\\runtests.jl'`, ProcessExited(1)) [1]\u001b[0m\n",
      "\n",
      "\u001b[1m\u001b[31m================================================================================\u001b[0m\n"
     ]
    },
    {
     "ename": "LoadError",
     "evalue": "MyMatching had test errors",
     "output_type": "error",
     "traceback": [
      "MyMatching had test errors",
      "",
      " in #test#61(::Bool, ::Function, ::Array{AbstractString,1}) at .\\pkg\\entry.jl:749",
      " in (::Base.Pkg.Entry.#kw##test)(::Array{Any,1}, ::Base.Pkg.Entry.#test, ::Array{AbstractString,1}) at .\\<missing>:0",
      " in (::Base.Pkg.Dir.##2#3{Array{Any,1},Base.Pkg.Entry.#test,Tuple{Array{AbstractString,1}}})() at .\\pkg\\dir.jl:31",
      " in cd(::Base.Pkg.Dir.##2#3{Array{Any,1},Base.Pkg.Entry.#test,Tuple{Array{AbstractString,1}}}, ::String) at .\\file.jl:48",
      " in #cd#1(::Array{Any,1}, ::Function, ::Function, ::Array{AbstractString,1}, ::Vararg{Array{AbstractString,1},N}) at .\\pkg\\dir.jl:31",
      " in (::Base.Pkg.Dir.#kw##cd)(::Array{Any,1}, ::Base.Pkg.Dir.#cd, ::Function, ::Array{AbstractString,1}, ::Vararg{Array{AbstractString,1},N}) at .\\<missing>:0",
      " in #test#3(::Bool, ::Function, ::String, ::Vararg{String,N}) at .\\pkg\\pkg.jl:258",
      " in test(::String, ::Vararg{String,N}) at .\\pkg\\pkg.jl:258"
     ]
    }
   ],
   "source": [
    "Pkg.test(\"MyMatching\")"
   ]
  },
  {
   "cell_type": "code",
   "execution_count": 1,
   "metadata": {
    "collapsed": false
   },
   "outputs": [
    {
     "name": "stderr",
     "output_type": "stream",
     "text": [
      "\u001b[1m\u001b[34mINFO: Checking out MyMatching master...\n",
      "\u001b[0m\u001b[1m\u001b[34mINFO: Pulling MyMatching latest master...\n",
      "\u001b[0m\u001b[1m\u001b[34mINFO: No packages to install, update or remove\n",
      "\u001b[0m"
     ]
    }
   ],
   "source": [
    "Pkg.checkout(\"MyMatching\", \"master\")"
   ]
  },
  {
   "cell_type": "code",
   "execution_count": null,
   "metadata": {
    "collapsed": true
   },
   "outputs": [],
   "source": []
  }
 ],
 "metadata": {
  "kernelspec": {
   "display_name": "Julia 0.5.1",
   "language": "julia",
   "name": "julia-0.5"
  },
  "language_info": {
   "file_extension": ".jl",
   "mimetype": "application/julia",
   "name": "julia",
   "version": "0.5.1"
  }
 },
 "nbformat": 4,
 "nbformat_minor": 2
}
