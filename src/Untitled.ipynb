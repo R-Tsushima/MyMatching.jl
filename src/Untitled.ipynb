{
 "cells": [
  {
   "cell_type": "code",
   "execution_count": 24,
   "metadata": {
    "collapsed": true
   },
   "outputs": [],
   "source": [
    "using MyMatching"
   ]
  },
  {
   "cell_type": "code",
   "execution_count": 23,
   "metadata": {
    "collapsed": false
   },
   "outputs": [
    {
     "name": "stderr",
     "output_type": "stream",
     "text": [
      "\u001b[1m\u001b[36mINFO: \u001b[39m\u001b[22m\u001b[36mChecking out MyMatching master...\n",
      "\u001b[39m\u001b[1m\u001b[36mINFO: \u001b[39m\u001b[22m\u001b[36mPulling MyMatching latest master...\n",
      "\u001b[39m\u001b[1m\u001b[36mINFO: \u001b[39m\u001b[22m\u001b[36mNo packages to install, update or remove\n",
      "\u001b[39m"
     ]
    }
   ],
   "source": [
    "Pkg.checkout(\"MyMatching\", \"master\")"
   ]
  },
  {
   "cell_type": "code",
   "execution_count": 25,
   "metadata": {
    "collapsed": false
   },
   "outputs": [
    {
     "name": "stderr",
     "output_type": "stream",
     "text": [
      "\u001b[1m\u001b[36mINFO: \u001b[39m\u001b[22m\u001b[36mTesting MyMatching\n",
      "\u001b[39m"
     ]
    },
    {
     "name": "stdout",
     "output_type": "stream",
     "text": [
      "\u001b[37mone-to-one: Vector of Vectors: \u001b[39m\u001b[1m\u001b[91mError During Test\n",
      "\u001b[39m\u001b[22m  Got an exception of type UndefVarError outside of a @test\n",
      "  \u001b[91mUndefVarError: p_count not defined\u001b[39m\n",
      "  Stacktrace:\n",
      "   [1] \u001b[1mmy_deferred_acceptance\u001b[22m\u001b[22m\u001b[1m(\u001b[22m\u001b[22m::Array{Array{Int64,1},1}, ::Array{Array{Int64,1},1}, ::Array{Int64,1}, ::Array{Int64,1}\u001b[1m)\u001b[22m\u001b[22m at \u001b[1mC:\\Users\\r28yn\\.julia\\v0.6\\MyMatching\\src\\MyMatching.jl:56\u001b[22m\u001b[22m\n",
      "   [2] \u001b[1mmy_deferred_acceptance\u001b[22m\u001b[22m\u001b[1m(\u001b[22m\u001b[22m::Array{Array{Int64,1},1}, ::Array{Array{Int64,1},1}\u001b[1m)\u001b[22m\u001b[22m at \u001b[1mC:\\Users\\r28yn\\.julia\\v0.6\\MyMatching\\src\\MyMatching.jl:78\u001b[22m\u001b[22m\n",
      "   [3] \u001b[1mmacro expansion\u001b[22m\u001b[22m at \u001b[1mC:\\Users\\r28yn\\.julia\\v0.6\\MyMatching\\test\\runtests.jl:207\u001b[22m\u001b[22m [inlined]\n",
      "   [4] \u001b[1mmacro expansion\u001b[22m\u001b[22m at \u001b[1m.\\test.jl:860\u001b[22m\u001b[22m [inlined]\n",
      "   [5] \u001b[1mmacro expansion\u001b[22m\u001b[22m at \u001b[1mC:\\Users\\r28yn\\.julia\\v0.6\\MyMatching\\test\\runtests.jl:201\u001b[22m\u001b[22m [inlined]\n",
      "   [6] \u001b[1mmacro expansion\u001b[22m\u001b[22m at \u001b[1m.\\test.jl:860\u001b[22m\u001b[22m [inlined]\n",
      "   [7] \u001b[1manonymous\u001b[22m\u001b[22m at \u001b[1m.\\<missing>:?\u001b[22m\u001b[22m\n",
      "   [8] \u001b[1minclude_from_node1\u001b[22m\u001b[22m\u001b[1m(\u001b[22m\u001b[22m::String\u001b[1m)\u001b[22m\u001b[22m at \u001b[1m.\\loading.jl:569\u001b[22m\u001b[22m\n",
      "   [9] \u001b[1minclude\u001b[22m\u001b[22m\u001b[1m(\u001b[22m\u001b[22m::String\u001b[1m)\u001b[22m\u001b[22m at \u001b[1m.\\sysimg.jl:14\u001b[22m\u001b[22m\n",
      "   [10] \u001b[1mprocess_options\u001b[22m\u001b[22m\u001b[1m(\u001b[22m\u001b[22m::Base.JLOptions\u001b[1m)\u001b[22m\u001b[22m at \u001b[1m.\\client.jl:305\u001b[22m\u001b[22m\n",
      "   [11] \u001b[1m_start\u001b[22m\u001b[22m\u001b[1m(\u001b[22m\u001b[22m\u001b[1m)\u001b[22m\u001b[22m at \u001b[1m.\\client.jl:371\u001b[22m\u001b[22m\n",
      "\u001b[37mmany-to-one: Vector of Vectors: \u001b[39m\u001b[1m\u001b[91mError During Test\n",
      "\u001b[39m\u001b[22m  Got an exception of type UndefVarError outside of a @test\n",
      "  \u001b[91mUndefVarError: p_count not defined\u001b[39m\n",
      "  Stacktrace:\n",
      "   [1] \u001b[1mmy_deferred_acceptance\u001b[22m\u001b[22m\u001b[1m(\u001b[22m\u001b[22m::Array{Array{Int64,1},1}, ::Array{Array{Int64,1},1}, ::Array{Int64,1}, ::Array{Int64,1}\u001b[1m)\u001b[22m\u001b[22m at \u001b[1mC:\\Users\\r28yn\\.julia\\v0.6\\MyMatching\\src\\MyMatching.jl:56\u001b[22m\u001b[22m\n",
      "   [2] \u001b[1mmy_deferred_acceptance\u001b[22m\u001b[22m\u001b[1m(\u001b[22m\u001b[22m::Array{Array{Int64,1},1}, ::Array{Array{Int64,1},1}, ::Array{Int64,1}\u001b[1m)\u001b[22m\u001b[22m at \u001b[1mC:\\Users\\r28yn\\.julia\\v0.6\\MyMatching\\src\\MyMatching.jl:68\u001b[22m\u001b[22m\n",
      "   [3] \u001b[1mmacro expansion\u001b[22m\u001b[22m at \u001b[1mC:\\Users\\r28yn\\.julia\\v0.6\\MyMatching\\test\\runtests.jl:223\u001b[22m\u001b[22m [inlined]\n",
      "   [4] \u001b[1mmacro expansion\u001b[22m\u001b[22m at \u001b[1m.\\test.jl:860\u001b[22m\u001b[22m [inlined]\n",
      "   [5] \u001b[1mmacro expansion\u001b[22m\u001b[22m at \u001b[1mC:\\Users\\r28yn\\.julia\\v0.6\\MyMatching\\test\\runtests.jl:218\u001b[22m\u001b[22m [inlined]\n",
      "   [6] \u001b[1mmacro expansion\u001b[22m\u001b[22m at \u001b[1m.\\test.jl:860\u001b[22m\u001b[22m [inlined]\n",
      "   [7] \u001b[1manonymous\u001b[22m\u001b[22m at \u001b[1m.\\<missing>:?\u001b[22m\u001b[22m\n",
      "   [8] \u001b[1minclude_from_node1\u001b[22m\u001b[22m\u001b[1m(\u001b[22m\u001b[22m::String\u001b[1m)\u001b[22m\u001b[22m at \u001b[1m.\\loading.jl:569\u001b[22m\u001b[22m\n",
      "   [9] \u001b[1minclude\u001b[22m\u001b[22m\u001b[1m(\u001b[22m\u001b[22m::String\u001b[1m)\u001b[22m\u001b[22m at \u001b[1m.\\sysimg.jl:14\u001b[22m\u001b[22m\n",
      "   [10] \u001b[1mprocess_options\u001b[22m\u001b[22m\u001b[1m(\u001b[22m\u001b[22m::Base.JLOptions\u001b[1m)\u001b[22m\u001b[22m at \u001b[1m.\\client.jl:305\u001b[22m\u001b[22m\n",
      "   [11] \u001b[1m_start\u001b[22m\u001b[22m\u001b[1m(\u001b[22m\u001b[22m\u001b[1m)\u001b[22m\u001b[22m at \u001b[1m.\\client.jl:371\u001b[22m\u001b[22m\n",
      "\u001b[1m\u001b[37mTest Summary:                    | \u001b[39m\u001b[22m\u001b[1m\u001b[91mError  \u001b[39m\u001b[22m\u001b[1m\u001b[36mTotal\u001b[39m\u001b[22m\n",
      "Testing deferred acceptance      | \u001b[91m    2  \u001b[39m\u001b[36m    2\u001b[39m\n",
      "  one-to-one: Vector of Vectors  | \u001b[91m    1  \u001b[39m\u001b[36m    1\u001b[39m\n",
      "  many-to-one: Vector of Vectors | \u001b[91m    1  \u001b[39m\u001b[36m    1\u001b[39m\n"
     ]
    },
    {
     "name": "stderr",
     "output_type": "stream",
     "text": [
      "\u001b[1m\u001b[91mERROR: \u001b[39m\u001b[22mLoadError: \u001b[91mSome tests did not pass: 0 passed, 0 failed, 2 errored, 0 broken.\u001b[39m\n",
      "while loading C:\\Users\\r28yn\\.julia\\v0.6\\MyMatching\\test\\runtests.jl, in expression starting on line 17\n",
      "\u001b[1m\u001b[33m\u001b[39m\u001b[22m\u001b[33m=============================[ ERROR: MyMatching ]==============================\u001b[39m\n",
      "\n",
      "\u001b[1m\u001b[33m\u001b[39m\u001b[22m\u001b[33mfailed process: Process(`'C:\\Users\\r28yn\\AppData\\Local\\Julia-0.6.0\\bin\\julia.exe' -Cx86-64 '-JC:\\Users\\r28yn\\AppData\\Local\\Julia-0.6.0\\lib\\julia\\sys.dll' --compile=yes --depwarn=yes --check-bounds=yes --code-coverage=none --color=yes --compilecache=yes 'C:\\Users\\r28yn\\.julia\\v0.6\\MyMatching\\test\\runtests.jl'`, ProcessExited(1)) [1]\u001b[39m\n",
      "\n",
      "\u001b[1m\u001b[33m\u001b[39m\u001b[22m\u001b[33m================================================================================\u001b[39m\n"
     ]
    },
    {
     "ename": "LoadError",
     "evalue": "\u001b[91mMyMatching had test errors\u001b[39m",
     "output_type": "error",
     "traceback": [
      "\u001b[91mMyMatching had test errors\u001b[39m",
      "",
      "Stacktrace:",
      " [1] \u001b[1m#test#62\u001b[22m\u001b[22m\u001b[1m(\u001b[22m\u001b[22m::Bool, ::Function, ::Array{AbstractString,1}\u001b[1m)\u001b[22m\u001b[22m at \u001b[1m.\\pkg\\entry.jl:757\u001b[22m\u001b[22m",
      " [2] \u001b[1m(::Base.Pkg.Entry.#kw##test)\u001b[22m\u001b[22m\u001b[1m(\u001b[22m\u001b[22m::Array{Any,1}, ::Base.Pkg.Entry.#test, ::Array{AbstractString,1}\u001b[1m)\u001b[22m\u001b[22m at \u001b[1m.\\<missing>:0\u001b[22m\u001b[22m",
      " [3] \u001b[1m(::Base.Pkg.Dir.##4#7{Array{Any,1},Base.Pkg.Entry.#test,Tuple{Array{AbstractString,1}}})\u001b[22m\u001b[22m\u001b[1m(\u001b[22m\u001b[22m\u001b[1m)\u001b[22m\u001b[22m at \u001b[1m.\\pkg\\dir.jl:36\u001b[22m\u001b[22m",
      " [4] \u001b[1mcd\u001b[22m\u001b[22m\u001b[1m(\u001b[22m\u001b[22m::Base.Pkg.Dir.##4#7{Array{Any,1},Base.Pkg.Entry.#test,Tuple{Array{AbstractString,1}}}, ::String\u001b[1m)\u001b[22m\u001b[22m at \u001b[1m.\\file.jl:59\u001b[22m\u001b[22m",
      " [5] \u001b[1m#cd#1\u001b[22m\u001b[22m\u001b[1m(\u001b[22m\u001b[22m::Array{Any,1}, ::Function, ::Function, ::Array{AbstractString,1}, ::Vararg{Array{AbstractString,1},N} where N\u001b[1m)\u001b[22m\u001b[22m at \u001b[1m.\\pkg\\dir.jl:36\u001b[22m\u001b[22m",
      " [6] \u001b[1m(::Base.Pkg.Dir.#kw##cd)\u001b[22m\u001b[22m\u001b[1m(\u001b[22m\u001b[22m::Array{Any,1}, ::Base.Pkg.Dir.#cd, ::Function, ::Array{AbstractString,1}, ::Vararg{Array{AbstractString,1},N} where N\u001b[1m)\u001b[22m\u001b[22m at \u001b[1m.\\<missing>:0\u001b[22m\u001b[22m",
      " [7] \u001b[1m#test#3\u001b[22m\u001b[22m\u001b[1m(\u001b[22m\u001b[22m::Bool, ::Function, ::String, ::Vararg{String,N} where N\u001b[1m)\u001b[22m\u001b[22m at \u001b[1m.\\pkg\\pkg.jl:276\u001b[22m\u001b[22m",
      " [8] \u001b[1mtest\u001b[22m\u001b[22m\u001b[1m(\u001b[22m\u001b[22m::String, ::Vararg{String,N} where N\u001b[1m)\u001b[22m\u001b[22m at \u001b[1m.\\pkg\\pkg.jl:276\u001b[22m\u001b[22m"
     ]
    }
   ],
   "source": [
    "Pkg.test(\"MyMatching\")"
   ]
  },
  {
   "cell_type": "code",
   "execution_count": null,
   "metadata": {
    "collapsed": true
   },
   "outputs": [],
   "source": [
    "using Matching"
   ]
  },
  {
   "cell_type": "code",
   "execution_count": null,
   "metadata": {
    "collapsed": true
   },
   "outputs": [],
   "source": []
  },
  {
   "cell_type": "code",
   "execution_count": null,
   "metadata": {
    "collapsed": true
   },
   "outputs": [],
   "source": []
  },
  {
   "cell_type": "code",
   "execution_count": null,
   "metadata": {
    "collapsed": true
   },
   "outputs": [],
   "source": []
  },
  {
   "cell_type": "markdown",
   "metadata": {},
   "source": [
    "## 例1\n",
    "```\n",
    "In [5]:\n",
    "prop_prefs, resp_prefs = mat2vecs.(random_prefs(5, 3, allow_unmatched = false))\n",
    "\n",
    "Out[5]:\n",
    "(Array{Int64,1}[[2,1,3],[1,2,3],[2,1,3],[1,3,2],[2,1,3]],Array{Int64,1}[[1,5,3,2,4],[4,2,1,5,3],[5,1,3,2,4]])\n",
    "\n",
    "In [6]:\n",
    "p_caps = [1, 1, 1, 2, 2]\n",
    "r_caps = [2, 2, 3];\n",
    "\n",
    "In [7]:\n",
    "my_deferred_acceptance(prop_prefs, resp_prefs, p_caps, r_caps)\n",
    "\n",
    "Out[7]:\n",
    "([1,2,3,3,2,3,1],[1,5,2,4,3,5,4],[1,2,3,4,6,8],[1,3,5,8])\n",
    "```"
   ]
  },
  {
   "cell_type": "markdown",
   "metadata": {},
   "source": [
    "## 例2\n",
    "```\n",
    "In [8]:\n",
    "prop_prefs, resp_prefs = mat2vecs.(random_prefs(5, 3, allow_unmatched = false))\n",
    "\n",
    "Out[8]:\n",
    "(Array{Int64,1}[[3,1,2],[3,1,2],[2,3,1],[3,1,2],[1,3,2]],Array{Int64,1}[[5,4,2,3,1],[5,2,3,4,1],[5,4,1,2,3]])\n",
    "\n",
    "In [9]:\n",
    "p_caps = [1, 1, 1, 2, 2]\n",
    "r_caps = [1, 3, 3];\n",
    "\n",
    "In [10]:\n",
    "my_deferred_acceptance(prop_prefs, resp_prefs, p_caps, r_caps)\n",
    "\n",
    "Out[10]:\n",
    "([3,2,2,3,2,1,3],[5,2,4,3,4,5,1],[1,2,3,4,6,8],[1,2,5,8])\n",
    "```"
   ]
  },
  {
   "cell_type": "markdown",
   "metadata": {},
   "source": [
    "## 例3\n",
    "```\n",
    "In [11]:\n",
    "prop_prefs, resp_prefs = mat2vecs.(random_prefs(7, 4))\n",
    "\n",
    "Out[11]:\n",
    "(Array{Int64,1}[[3,4],[4,3,2],[2,4,1,3],[3,2],[2,4],[3,2,4],[3]],Array{Int64,1}[[3,7,6,4,5,2],[2,4,5,7,6],[4,1,3],[4,6,2]])\n",
    "\n",
    "In [12]:\n",
    "p_caps = [1, 1, 2, 1, 1, 2, 1]\n",
    "r_caps = [3, 3, 1, 2];\n",
    "\n",
    "In [13]:\n",
    "my_deferred_acceptance(prop_prefs, resp_prefs, p_caps, r_caps)\n",
    "\n",
    "Out[13]:\n",
    "([0,4,1,0,3,2,2,4,0],[0,0,3,0,6,5,4,6,2],[1,2,3,5,6,7,9,10],[1,4,7,8,10])\n",
    "```"
   ]
  },
  {
   "cell_type": "code",
   "execution_count": 3,
   "metadata": {
    "collapsed": false
   },
   "outputs": [
    {
     "data": {
      "text/plain": [
       "2×3 Array{Int64,2}:\n",
       " 0  0  0\n",
       " 0  0  0"
      ]
     },
     "execution_count": 3,
     "metadata": {},
     "output_type": "execute_result"
    }
   ],
   "source": [
    "A = zeros(Int, 2, 3)"
   ]
  },
  {
   "cell_type": "code",
   "execution_count": 22,
   "metadata": {
    "collapsed": false
   },
   "outputs": [
    {
     "data": {
      "text/plain": [
       "2×2 Array{Array{Int64,1},2}:\n",
       " [0]  [0]\n",
       " [0]  [0]"
      ]
     },
     "execution_count": 22,
     "metadata": {},
     "output_type": "execute_result"
    }
   ],
   "source": [
    "B = fill([0],(2,2))"
   ]
  },
  {
   "cell_type": "code",
   "execution_count": 12,
   "metadata": {
    "collapsed": false
   },
   "outputs": [
    {
     "ename": "LoadError",
     "evalue": "\u001b[91mMethodError: Cannot `convert` an object of type Array{Int64,1} to an object of type Int64\nThis may have arisen from a call to the constructor Int64(...),\nsince type constructors fall back to convert methods.\u001b[39m",
     "output_type": "error",
     "traceback": [
      "\u001b[91mMethodError: Cannot `convert` an object of type Array{Int64,1} to an object of type Int64\nThis may have arisen from a call to the constructor Int64(...),\nsince type constructors fall back to convert methods.\u001b[39m",
      "",
      "Stacktrace:",
      " [1] \u001b[1msetindex!\u001b[22m\u001b[22m\u001b[1m(\u001b[22m\u001b[22m::Array{Int64,2}, ::Array{Int64,1}, ::Int64, ::Int64\u001b[1m)\u001b[22m\u001b[22m at \u001b[1m.\\array.jl:550\u001b[22m\u001b[22m"
     ]
    }
   ],
   "source": [
    "A[1,2] = [1]"
   ]
  },
  {
   "cell_type": "code",
   "execution_count": 18,
   "metadata": {
    "collapsed": false
   },
   "outputs": [
    {
     "name": "stdout",
     "output_type": "stream",
     "text": [
      "search: \u001b[1mf\u001b[22m\u001b[1mi\u001b[22m\u001b[1ml\u001b[22m\u001b[1ml\u001b[22m \u001b[1mf\u001b[22m\u001b[1mi\u001b[22m\u001b[1ml\u001b[22m\u001b[1ml\u001b[22m! \u001b[1mf\u001b[22m\u001b[1mi\u001b[22mna\u001b[1ml\u001b[22m\u001b[1ml\u001b[22my \u001b[1mf\u001b[22m\u001b[1mi\u001b[22m\u001b[1ml\u001b[22mt \u001b[1mf\u001b[22m\u001b[1mi\u001b[22m\u001b[1ml\u001b[22mt! \u001b[1mf\u001b[22m\u001b[1mi\u001b[22m\u001b[1ml\u001b[22mter \u001b[1mf\u001b[22m\u001b[1mi\u001b[22m\u001b[1ml\u001b[22mter! \u001b[1mf\u001b[22m\u001b[1mi\u001b[22m\u001b[1ml\u001b[22mesize \u001b[1mf\u001b[22m\u001b[1mi\u001b[22m\u001b[1ml\u001b[22memode\n",
      "\n"
     ]
    },
    {
     "data": {
      "text/markdown": [
       "```\n",
       "fill(x, dims)\n",
       "```\n",
       "\n",
       "Create an array filled with the value `x`. For example, `fill(1.0, (5,5))` returns a 5×5 array of floats, with each element initialized to `1.0`.\n",
       "\n",
       "```jldoctest\n",
       "julia> fill(1.0, (5,5))\n",
       "5×5 Array{Float64,2}:\n",
       " 1.0  1.0  1.0  1.0  1.0\n",
       " 1.0  1.0  1.0  1.0  1.0\n",
       " 1.0  1.0  1.0  1.0  1.0\n",
       " 1.0  1.0  1.0  1.0  1.0\n",
       " 1.0  1.0  1.0  1.0  1.0\n",
       "```\n",
       "\n",
       "If `x` is an object reference, all elements will refer to the same object. `fill(Foo(), dims)` will return an array filled with the result of evaluating `Foo()` once.\n"
      ],
      "text/plain": [
       "```\n",
       "fill(x, dims)\n",
       "```\n",
       "\n",
       "Create an array filled with the value `x`. For example, `fill(1.0, (5,5))` returns a 5×5 array of floats, with each element initialized to `1.0`.\n",
       "\n",
       "```jldoctest\n",
       "julia> fill(1.0, (5,5))\n",
       "5×5 Array{Float64,2}:\n",
       " 1.0  1.0  1.0  1.0  1.0\n",
       " 1.0  1.0  1.0  1.0  1.0\n",
       " 1.0  1.0  1.0  1.0  1.0\n",
       " 1.0  1.0  1.0  1.0  1.0\n",
       " 1.0  1.0  1.0  1.0  1.0\n",
       "```\n",
       "\n",
       "If `x` is an object reference, all elements will refer to the same object. `fill(Foo(), dims)` will return an array filled with the result of evaluating `Foo()` once.\n"
      ]
     },
     "execution_count": 18,
     "metadata": {},
     "output_type": "execute_result"
    }
   ],
   "source": [
    "?fill"
   ]
  },
  {
   "cell_type": "code",
   "execution_count": null,
   "metadata": {
    "collapsed": true
   },
   "outputs": [],
   "source": []
  }
 ],
 "metadata": {
  "kernelspec": {
   "display_name": "Julia 0.6.0",
   "language": "julia",
   "name": "julia-0.6"
  },
  "language_info": {
   "file_extension": ".jl",
   "mimetype": "application/julia",
   "name": "julia",
   "version": "0.6.0"
  }
 },
 "nbformat": 4,
 "nbformat_minor": 2
}
