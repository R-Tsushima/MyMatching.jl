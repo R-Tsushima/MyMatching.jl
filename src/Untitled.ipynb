{
 "cells": [
  {
   "cell_type": "code",
   "execution_count": 1,
   "metadata": {
    "collapsed": false
   },
   "outputs": [
    {
     "name": "stderr",
     "output_type": "stream",
     "text": [
      "\u001b[1m\u001b[36mINFO: \u001b[39m\u001b[22m\u001b[36mChecking out MyMatching master...\n",
      "\u001b[39m\u001b[1m\u001b[36mINFO: \u001b[39m\u001b[22m\u001b[36mPulling MyMatching latest master...\n",
      "\u001b[39m\u001b[1m\u001b[36mINFO: \u001b[39m\u001b[22m\u001b[36mNo packages to install, update or remove\n",
      "\u001b[39m"
     ]
    }
   ],
   "source": [
    "Pkg.checkout(\"MyMatching\", \"master\")"
   ]
  },
  {
   "cell_type": "code",
   "execution_count": 2,
   "metadata": {
    "collapsed": true
   },
   "outputs": [],
   "source": [
    "using MyMatching"
   ]
  },
  {
   "cell_type": "code",
   "execution_count": 3,
   "metadata": {
    "collapsed": false
   },
   "outputs": [
    {
     "name": "stderr",
     "output_type": "stream",
     "text": [
      "\u001b[1m\u001b[36mINFO: \u001b[39m\u001b[22m\u001b[36mTesting MyMatching\n",
      "\u001b[39m"
     ]
    },
    {
     "name": "stdout",
     "output_type": "stream",
     "text": [
      "\u001b[37mone-to-one: Vector of Vectors: \u001b[39m\u001b[1m\u001b[91mError During Test\n",
      "\u001b[39m\u001b[22m  Got an exception of type BoundsError outside of a @test\n",
      "  \u001b[91mBoundsError: attempt to access ([1, 2, 3, 0], [1, 2, 3], [1, 2, 3, 4, 5], [1, 2, 3, 4])\n",
      "    at index [5]\u001b[39m\n",
      "  Stacktrace:\n",
      "   [1] \u001b[1mmy_deferred_acceptance\u001b[22m\u001b[22m\u001b[1m(\u001b[22m\u001b[22m::Array{Array{Int64,1},1}, ::Array{Array{Int64,1},1}\u001b[1m)\u001b[22m\u001b[22m at \u001b[1mC:\\Users\\r28yn\\.julia\\v0.6\\MyMatching\\src\\MyMatching.jl:78\u001b[22m\u001b[22m\n",
      "   [2] \u001b[1mmacro expansion\u001b[22m\u001b[22m at \u001b[1mC:\\Users\\r28yn\\.julia\\v0.6\\MyMatching\\test\\runtests.jl:207\u001b[22m\u001b[22m [inlined]\n",
      "   [3] \u001b[1mmacro expansion\u001b[22m\u001b[22m at \u001b[1m.\\test.jl:860\u001b[22m\u001b[22m [inlined]\n",
      "   [4] \u001b[1mmacro expansion\u001b[22m\u001b[22m at \u001b[1mC:\\Users\\r28yn\\.julia\\v0.6\\MyMatching\\test\\runtests.jl:201\u001b[22m\u001b[22m [inlined]\n",
      "   [5] \u001b[1mmacro expansion\u001b[22m\u001b[22m at \u001b[1m.\\test.jl:860\u001b[22m\u001b[22m [inlined]\n",
      "   [6] \u001b[1manonymous\u001b[22m\u001b[22m at \u001b[1m.\\<missing>:?\u001b[22m\u001b[22m\n",
      "   [7] \u001b[1minclude_from_node1\u001b[22m\u001b[22m\u001b[1m(\u001b[22m\u001b[22m::String\u001b[1m)\u001b[22m\u001b[22m at \u001b[1m.\\loading.jl:569\u001b[22m\u001b[22m\n",
      "   [8] \u001b[1minclude\u001b[22m\u001b[22m\u001b[1m(\u001b[22m\u001b[22m::String\u001b[1m)\u001b[22m\u001b[22m at \u001b[1m.\\sysimg.jl:14\u001b[22m\u001b[22m\n",
      "   [9] \u001b[1mprocess_options\u001b[22m\u001b[22m\u001b[1m(\u001b[22m\u001b[22m::Base.JLOptions\u001b[1m)\u001b[22m\u001b[22m at \u001b[1m.\\client.jl:305\u001b[22m\u001b[22m\n",
      "   [10] \u001b[1m_start\u001b[22m\u001b[22m\u001b[1m(\u001b[22m\u001b[22m\u001b[1m)\u001b[22m\u001b[22m at \u001b[1m.\\client.jl:371\u001b[22m\u001b[22m\n",
      "\u001b[1m\u001b[37mTest Summary:                    | \u001b[39m\u001b[22m\u001b[1m\u001b[32mPass  \u001b[39m\u001b[22m\u001b[1m\u001b[91mError  \u001b[39m\u001b[22m\u001b[1m\u001b[36mTotal\u001b[39m\u001b[22m\n",
      "Testing deferred acceptance      | \u001b[32m   6  \u001b[39m\u001b[91m    1  \u001b[39m\u001b[36m    7\u001b[39m\n",
      "  one-to-one: Vector of Vectors  |       \u001b[91m    1  \u001b[39m\u001b[36m    1\u001b[39m\n",
      "  many-to-one: Vector of Vectors | \u001b[32m   6  \u001b[39m       \u001b[36m    6\u001b[39m\n"
     ]
    },
    {
     "name": "stderr",
     "output_type": "stream",
     "text": [
      "\u001b[1m\u001b[91mERROR: \u001b[39m\u001b[22mLoadError: \u001b[91mSome tests did not pass: 6 passed, 0 failed, 1 errored, 0 broken.\u001b[39m\n",
      "while loading C:\\Users\\r28yn\\.julia\\v0.6\\MyMatching\\test\\runtests.jl, in expression starting on line 17\n",
      "\u001b[1m\u001b[33m\u001b[39m\u001b[22m\u001b[33m=============================[ ERROR: MyMatching ]==============================\u001b[39m\n",
      "\n",
      "\u001b[1m\u001b[33m\u001b[39m\u001b[22m\u001b[33mfailed process: Process(`'C:\\Users\\r28yn\\AppData\\Local\\Julia-0.6.0\\bin\\julia.exe' -Cx86-64 '-JC:\\Users\\r28yn\\AppData\\Local\\Julia-0.6.0\\lib\\julia\\sys.dll' --compile=yes --depwarn=yes --check-bounds=yes --code-coverage=none --color=yes --compilecache=yes 'C:\\Users\\r28yn\\.julia\\v0.6\\MyMatching\\test\\runtests.jl'`, ProcessExited(1)) [1]\u001b[39m\n",
      "\n",
      "\u001b[1m\u001b[33m\u001b[39m\u001b[22m\u001b[33m================================================================================\u001b[39m\n"
     ]
    },
    {
     "ename": "LoadError",
     "evalue": "\u001b[91mMyMatching had test errors\u001b[39m",
     "output_type": "error",
     "traceback": [
      "\u001b[91mMyMatching had test errors\u001b[39m",
      "",
      "Stacktrace:",
      " [1] \u001b[1m#test#62\u001b[22m\u001b[22m\u001b[1m(\u001b[22m\u001b[22m::Bool, ::Function, ::Array{AbstractString,1}\u001b[1m)\u001b[22m\u001b[22m at \u001b[1m.\\pkg\\entry.jl:757\u001b[22m\u001b[22m",
      " [2] \u001b[1m(::Base.Pkg.Entry.#kw##test)\u001b[22m\u001b[22m\u001b[1m(\u001b[22m\u001b[22m::Array{Any,1}, ::Base.Pkg.Entry.#test, ::Array{AbstractString,1}\u001b[1m)\u001b[22m\u001b[22m at \u001b[1m.\\<missing>:0\u001b[22m\u001b[22m",
      " [3] \u001b[1m(::Base.Pkg.Dir.##4#7{Array{Any,1},Base.Pkg.Entry.#test,Tuple{Array{AbstractString,1}}})\u001b[22m\u001b[22m\u001b[1m(\u001b[22m\u001b[22m\u001b[1m)\u001b[22m\u001b[22m at \u001b[1m.\\pkg\\dir.jl:36\u001b[22m\u001b[22m",
      " [4] \u001b[1mcd\u001b[22m\u001b[22m\u001b[1m(\u001b[22m\u001b[22m::Base.Pkg.Dir.##4#7{Array{Any,1},Base.Pkg.Entry.#test,Tuple{Array{AbstractString,1}}}, ::String\u001b[1m)\u001b[22m\u001b[22m at \u001b[1m.\\file.jl:59\u001b[22m\u001b[22m",
      " [5] \u001b[1m#cd#1\u001b[22m\u001b[22m\u001b[1m(\u001b[22m\u001b[22m::Array{Any,1}, ::Function, ::Function, ::Array{AbstractString,1}, ::Vararg{Array{AbstractString,1},N} where N\u001b[1m)\u001b[22m\u001b[22m at \u001b[1m.\\pkg\\dir.jl:36\u001b[22m\u001b[22m",
      " [6] \u001b[1m(::Base.Pkg.Dir.#kw##cd)\u001b[22m\u001b[22m\u001b[1m(\u001b[22m\u001b[22m::Array{Any,1}, ::Base.Pkg.Dir.#cd, ::Function, ::Array{AbstractString,1}, ::Vararg{Array{AbstractString,1},N} where N\u001b[1m)\u001b[22m\u001b[22m at \u001b[1m.\\<missing>:0\u001b[22m\u001b[22m",
      " [7] \u001b[1m#test#3\u001b[22m\u001b[22m\u001b[1m(\u001b[22m\u001b[22m::Bool, ::Function, ::String, ::Vararg{String,N} where N\u001b[1m)\u001b[22m\u001b[22m at \u001b[1m.\\pkg\\pkg.jl:276\u001b[22m\u001b[22m",
      " [8] \u001b[1mtest\u001b[22m\u001b[22m\u001b[1m(\u001b[22m\u001b[22m::String, ::Vararg{String,N} where N\u001b[1m)\u001b[22m\u001b[22m at \u001b[1m.\\pkg\\pkg.jl:276\u001b[22m\u001b[22m"
     ]
    }
   ],
   "source": [
    "Pkg.test(\"MyMatching\")"
   ]
  },
  {
   "cell_type": "code",
   "execution_count": 4,
   "metadata": {
    "collapsed": false
   },
   "outputs": [],
   "source": [
    "using MatchingMarkets"
   ]
  },
  {
   "cell_type": "code",
   "execution_count": 5,
   "metadata": {
    "collapsed": false
   },
   "outputs": [
    {
     "data": {
      "text/plain": [
       "mat2vecs (generic function with 1 method)"
      ]
     },
     "execution_count": 5,
     "metadata": {},
     "output_type": "execute_result"
    }
   ],
   "source": [
    "function mat2vecs{T<:Integer}(prefs::Matrix{T})\n",
    "    return [prefs[1:findfirst(prefs[:, j], 0)-1, j] for j in 1:size(prefs, 2)]\n",
    "end"
   ]
  },
  {
   "cell_type": "code",
   "execution_count": 10,
   "metadata": {
    "collapsed": false
   },
   "outputs": [
    {
     "data": {
      "text/plain": [
       "(Array{Int64,1}[[4, 3], [2, 3, 4, 1], [3, 1], [1], [1, 3], [4, 3, 1], [1, 2, 3]], Array{Int64,1}[[6, 2, 5, 4, 1], [3, 6, 5, 2, 7, 1, 4], [2, 3], [5, 3]])"
      ]
     },
     "execution_count": 10,
     "metadata": {},
     "output_type": "execute_result"
    }
   ],
   "source": [
    "prop_prefs, resp_prefs = mat2vecs.(random_prefs(7, 4))"
   ]
  },
  {
   "cell_type": "code",
   "execution_count": 11,
   "metadata": {
    "collapsed": true
   },
   "outputs": [],
   "source": [
    "p_caps = [1, 1, 2, 1, 1, 2, 1]\n",
    "r_caps = [3, 3, 1, 2];"
   ]
  },
  {
   "cell_type": "code",
   "execution_count": 12,
   "metadata": {
    "collapsed": false
   },
   "outputs": [
    {
     "data": {
      "text/plain": [
       "([0, 2, 3, 0, 1, 1, 1, 0, 2], [6, 5, 4, 0, 7, 2, 3, 0, 0], [1, 2, 3, 5, 6, 7, 9, 10], [1, 4, 7, 8, 10])"
      ]
     },
     "execution_count": 12,
     "metadata": {},
     "output_type": "execute_result"
    }
   ],
   "source": [
    "my_deferred_acceptance(prop_prefs, resp_prefs, p_caps, r_caps)"
   ]
  },
  {
   "cell_type": "code",
   "execution_count": 3,
   "metadata": {
    "collapsed": false
   },
   "outputs": [
    {
     "data": {
      "text/plain": [
       "2×3 Array{Int64,2}:\n",
       " 0  0  0\n",
       " 0  0  0"
      ]
     },
     "execution_count": 3,
     "metadata": {},
     "output_type": "execute_result"
    }
   ],
   "source": [
    "A = zeros(Int, 2, 3)"
   ]
  },
  {
   "cell_type": "code",
   "execution_count": 22,
   "metadata": {
    "collapsed": false
   },
   "outputs": [
    {
     "data": {
      "text/plain": [
       "2×2 Array{Array{Int64,1},2}:\n",
       " [0]  [0]\n",
       " [0]  [0]"
      ]
     },
     "execution_count": 22,
     "metadata": {},
     "output_type": "execute_result"
    }
   ],
   "source": [
    "B = fill([0],(2,2))"
   ]
  },
  {
   "cell_type": "markdown",
   "metadata": {},
   "source": [
    "## 例1\n",
    "```\n",
    "In [4]:\n",
    "prop_prefs, resp_prefs = mat2vecs.(random_prefs(5, 3, allow_unmatched = false))\n",
    "\n",
    "Out[4]:\n",
    "(Array{Int64,1}[[2, 1, 3], [3, 1, 2], [1, 3, 2], [1, 3, 2], [1, 2, 3]], Array{Int64,1}[[1, 3, 2, 5, 4], [5, 1, 3, 2, 4], [3, 5, 2, 4, 1]])\n",
    "\n",
    "In [5]:\n",
    "p_caps = [1, 1, 1, 2, 2]\n",
    "r_caps = [2, 2, 3];\n",
    "\n",
    "In [6]:\n",
    "my_deferred_acceptance(prop_prefs, resp_prefs, p_caps, r_caps)\n",
    "\n",
    "Out[6]:\n",
    "([2, 3, 1, 3, 0, 1, 2], [5, 3, 5, 1, 0, 4, 2], [1, 2, 3, 4, 6, 8], [1, 3, 5, 8])\n",
    "```\n",
    "受入側の枠が提案側の枠の分だけあっても選好次第でマッチングが成立しない。"
   ]
  },
  {
   "cell_type": "markdown",
   "metadata": {},
   "source": [
    "## 例2\n",
    "```\n",
    "In [7]:\n",
    "prop_prefs, resp_prefs = mat2vecs.(random_prefs(5, 3, allow_unmatched = false))\n",
    "\n",
    "Out[7]:\n",
    "(Array{Int64,1}[[1, 2, 3], [1, 3, 2], [2, 1, 3], [2, 1, 3], [2, 1, 3]], Array{Int64,1}[[2, 1, 5, 4, 3], [4, 2, 1, 5, 3], [3, 2, 4, 1, 5]])\n",
    "\n",
    "In [8]:\n",
    "p_caps = [1, 1, 1, 2, 2]\n",
    "r_caps = [2, 2, 3];\n",
    "\n",
    "In [9]:\n",
    "my_deferred_acceptance(prop_prefs, resp_prefs, p_caps, r_caps)\n",
    "\n",
    "Out[9]:\n",
    "([1, 1, 3, 2, 3, 2, 3], [2, 1, 4, 5, 5, 4, 3], [1, 2, 3, 4, 6, 8], [1, 3, 5, 8])\n",
    "```"
   ]
  },
  {
   "cell_type": "markdown",
   "metadata": {},
   "source": [
    "## 例3\n",
    "```\n",
    "In [10]:\n",
    "prop_prefs, resp_prefs = mat2vecs.(random_prefs(7, 4))\n",
    "\n",
    "Out[10]:\n",
    "(Array{Int64,1}[[4, 3], [2, 3, 4, 1], [3, 1], [1], [1, 3], [4, 3, 1], [1, 2, 3]], Array{Int64,1}[[6, 2, 5, 4, 1], [3, 6, 5, 2, 7, 1, 4], [2, 3], [5, 3]])\n",
    "\n",
    "In [11]:\n",
    "p_caps = [1, 1, 2, 1, 1, 2, 1]\n",
    "r_caps = [3, 3, 1, 2];\n",
    "\n",
    "In [12]:\n",
    "my_deferred_acceptance(prop_prefs, resp_prefs, p_caps, r_caps)\n",
    "\n",
    "Out[12]:\n",
    "([0, 2, 3, 0, 1, 1, 1, 0, 2], [6, 5, 4, 0, 7, 2, 3, 0, 0], [1, 2, 3, 5, 6, 7, 9, 10], [1, 4, 7, 8, 10])\n",
    "```"
   ]
  },
  {
   "cell_type": "code",
   "execution_count": 6,
   "metadata": {
    "collapsed": false
   },
   "outputs": [
    {
     "data": {
      "text/plain": [
       "strategic_pref (generic function with 1 method)"
      ]
     },
     "execution_count": 6,
     "metadata": {},
     "output_type": "execute_result"
    }
   ],
   "source": [
    "function strategic_pref(m_prefs::Vector{Vector{Int}},\n",
    "                        f_prefs::Vector{Vector{Int}},\n",
    "                        m_matched::Vector{Int},\n",
    "                        f_matched::Vector{Int},\n",
    "                        p_count::Vector{Int},\n",
    "                        false_prefs::Vector{Vector{Int}})\n",
    "    m = length(m_prefs)\n",
    "    n = length(f_prefs)\n",
    "    results = fill([0], (n, factorial(m)))\n",
    "    f_require = zeros(Int64, n)\n",
    "    for i in 1:n\n",
    "        if f_matched[i] == f_prefs[i][1]\n",
    "            f_require[i] = 1\n",
    "        end\n",
    "        if p_count[i] <= 1\n",
    "            f_require[i]+=10\n",
    "        end\n",
    "    end\n",
    "\n",
    "    for i in 1:n\n",
    "        if f_require[i] == 0\n",
    "            f_new_prefs = copy(f_prefs)\n",
    "            for j in 1:factorial(m)\n",
    "                f_new_prefs[i] = false_prefs[j]\n",
    "                m_new_matched, f_new_matched = my_deferred_acceptance(m_prefs, f_new_prefs)\n",
    "                if findfirst(f_prefs, f_new_matched[i]) < findfirst(f_prefs, f_matched[i])\n",
    "                    results[i][j] = false_prefs[j]\n",
    "                end\n",
    "            end\n",
    "        end\n",
    "    end\n",
    "end"
   ]
  },
  {
   "cell_type": "code",
   "execution_count": 7,
   "metadata": {
    "collapsed": false
   },
   "outputs": [
    {
     "data": {
      "text/plain": [
       "(Array{Int64,1}[[2, 1, 4, 3, 5], [5, 2, 1, 3, 4], [1, 3, 2, 4, 5], [5, 1, 2, 3, 4], [1, 2, 4, 3, 5]], Array{Int64,1}[[5, 2, 3, 4, 1], [2, 1, 3, 4, 5], [3, 5, 1, 4, 2], [1, 5, 4, 2, 3], [3, 5, 2, 1, 4]])"
      ]
     },
     "execution_count": 7,
     "metadata": {},
     "output_type": "execute_result"
    }
   ],
   "source": [
    "m_prefs, f_prefs = mat2vecs.(random_prefs(5, 5, allow_unmatched = false))"
   ]
  },
  {
   "cell_type": "code",
   "execution_count": 8,
   "metadata": {
    "collapsed": false,
    "scrolled": true
   },
   "outputs": [
    {
     "ename": "LoadError",
     "evalue": "\u001b[91mBoundsError: attempt to access ([2, 5, 3, 4, 1], [5, 1, 3, 4, 2], [1, 2, 3, 4, 5, 6], [1, 2, 3, 4, 5, 6])\n  at index [5]\u001b[39m",
     "output_type": "error",
     "traceback": [
      "\u001b[91mBoundsError: attempt to access ([2, 5, 3, 4, 1], [5, 1, 3, 4, 2], [1, 2, 3, 4, 5, 6], [1, 2, 3, 4, 5, 6])\n  at index [5]\u001b[39m",
      "",
      "Stacktrace:",
      " [1] \u001b[1mmy_deferred_acceptance\u001b[22m\u001b[22m\u001b[1m(\u001b[22m\u001b[22m::Array{Array{Int64,1},1}, ::Array{Array{Int64,1},1}\u001b[1m)\u001b[22m\u001b[22m at \u001b[1mC:\\Users\\r28yn\\.julia\\v0.6\\MyMatching\\src\\MyMatching.jl:78\u001b[22m\u001b[22m"
     ]
    }
   ],
   "source": [
    "m_matched, f_matched = my_deferred_acceptance(m_prefs, f_prefs)"
   ]
  },
  {
   "cell_type": "code",
   "execution_count": 9,
   "metadata": {
    "collapsed": false
   },
   "outputs": [
    {
     "ename": "LoadError",
     "evalue": "\u001b[91mUndefVarError: p_count not defined\u001b[39m",
     "output_type": "error",
     "traceback": [
      "\u001b[91mUndefVarError: p_count not defined\u001b[39m",
      ""
     ]
    }
   ],
   "source": [
    "p_count"
   ]
  },
  {
   "cell_type": "code",
   "execution_count": null,
   "metadata": {
    "collapsed": true
   },
   "outputs": [],
   "source": [
    "strategic_prefs(m_prefs, f_prefs, m_matched, f_matched, p_count, )"
   ]
  }
 ],
 "metadata": {
  "kernelspec": {
   "display_name": "Julia 0.6.0",
   "language": "julia",
   "name": "julia-0.6"
  },
  "language_info": {
   "file_extension": ".jl",
   "mimetype": "application/julia",
   "name": "julia",
   "version": "0.6.0"
  }
 },
 "nbformat": 4,
 "nbformat_minor": 2
}
