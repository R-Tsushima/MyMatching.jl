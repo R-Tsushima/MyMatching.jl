{
 "cells": [
  {
   "cell_type": "code",
   "execution_count": null,
   "metadata": {
    "collapsed": true
   },
   "outputs": [],
   "source": [
    "using MyMatching"
   ]
  },
  {
   "cell_type": "code",
   "execution_count": null,
   "metadata": {
    "collapsed": true
   },
   "outputs": [],
   "source": []
  },
  {
   "cell_type": "markdown",
   "metadata": {},
   "source": [
    "## 例1\n",
    "```\n",
    "In [5]:\n",
    "prop_prefs, resp_prefs = mat2vecs.(random_prefs(5, 3, allow_unmatched = false))\n",
    "\n",
    "Out[5]:\n",
    "(Array{Int64,1}[[2,1,3],[1,2,3],[2,1,3],[1,3,2],[2,1,3]],Array{Int64,1}[[1,5,3,2,4],[4,2,1,5,3],[5,1,3,2,4]])\n",
    "\n",
    "In [6]:\n",
    "p_caps = [1, 1, 1, 2, 2]\n",
    "r_caps = [2, 2, 3];\n",
    "\n",
    "In [7]:\n",
    "my_deferred_acceptance(prop_prefs, resp_prefs, p_caps, r_caps)\n",
    "\n",
    "Out[7]:\n",
    "([1,2,3,3,2,3,1],[1,5,2,4,3,5,4],[1,2,3,4,6,8],[1,3,5,8])\n",
    "```"
   ]
  },
  {
   "cell_type": "markdown",
   "metadata": {},
   "source": [
    "## 例2\n",
    "```\n",
    "In [8]:\n",
    "prop_prefs, resp_prefs = mat2vecs.(random_prefs(5, 3, allow_unmatched = false))\n",
    "\n",
    "Out[8]:\n",
    "(Array{Int64,1}[[3,1,2],[3,1,2],[2,3,1],[3,1,2],[1,3,2]],Array{Int64,1}[[5,4,2,3,1],[5,2,3,4,1],[5,4,1,2,3]])\n",
    "\n",
    "In [9]:\n",
    "p_caps = [1, 1, 1, 2, 2]\n",
    "r_caps = [1, 3, 3];\n",
    "\n",
    "In [10]:\n",
    "my_deferred_acceptance(prop_prefs, resp_prefs, p_caps, r_caps)\n",
    "\n",
    "Out[10]:\n",
    "([3,2,2,3,2,1,3],[5,2,4,3,4,5,1],[1,2,3,4,6,8],[1,2,5,8])\n",
    "```"
   ]
  },
  {
   "cell_type": "markdown",
   "metadata": {},
   "source": [
    "## 例3\n",
    "```\n",
    "In [11]:\n",
    "prop_prefs, resp_prefs = mat2vecs.(random_prefs(7, 4))\n",
    "\n",
    "Out[11]:\n",
    "(Array{Int64,1}[[3,4],[4,3,2],[2,4,1,3],[3,2],[2,4],[3,2,4],[3]],Array{Int64,1}[[3,7,6,4,5,2],[2,4,5,7,6],[4,1,3],[4,6,2]])\n",
    "\n",
    "In [12]:\n",
    "p_caps = [1, 1, 2, 1, 1, 2, 1]\n",
    "r_caps = [3, 3, 1, 2];\n",
    "\n",
    "In [13]:\n",
    "my_deferred_acceptance(prop_prefs, resp_prefs, p_caps, r_caps)\n",
    "\n",
    "Out[13]:\n",
    "([0,4,1,0,3,2,2,4,0],[0,0,3,0,6,5,4,6,2],[1,2,3,5,6,7,9,10],[1,4,7,8,10])\n",
    "```"
   ]
  },
  {
   "cell_type": "code",
   "execution_count": 3,
   "metadata": {
    "collapsed": false
   },
   "outputs": [
    {
     "data": {
      "text/plain": [
       "2×3 Array{Int64,2}:\n",
       " 0  0  0\n",
       " 0  0  0"
      ]
     },
     "execution_count": 3,
     "metadata": {},
     "output_type": "execute_result"
    }
   ],
   "source": [
    "A = zeros(Int, 2, 3)"
   ]
  },
  {
   "cell_type": "code",
   "execution_count": 22,
   "metadata": {
    "collapsed": false
   },
   "outputs": [
    {
     "data": {
      "text/plain": [
       "2×2 Array{Array{Int64,1},2}:\n",
       " [0]  [0]\n",
       " [0]  [0]"
      ]
     },
     "execution_count": 22,
     "metadata": {},
     "output_type": "execute_result"
    }
   ],
   "source": [
    "B = fill([0],(2,2))"
   ]
  },
  {
   "cell_type": "code",
   "execution_count": 12,
   "metadata": {
    "collapsed": false
   },
   "outputs": [
    {
     "ename": "LoadError",
     "evalue": "\u001b[91mMethodError: Cannot `convert` an object of type Array{Int64,1} to an object of type Int64\nThis may have arisen from a call to the constructor Int64(...),\nsince type constructors fall back to convert methods.\u001b[39m",
     "output_type": "error",
     "traceback": [
      "\u001b[91mMethodError: Cannot `convert` an object of type Array{Int64,1} to an object of type Int64\nThis may have arisen from a call to the constructor Int64(...),\nsince type constructors fall back to convert methods.\u001b[39m",
      "",
      "Stacktrace:",
      " [1] \u001b[1msetindex!\u001b[22m\u001b[22m\u001b[1m(\u001b[22m\u001b[22m::Array{Int64,2}, ::Array{Int64,1}, ::Int64, ::Int64\u001b[1m)\u001b[22m\u001b[22m at \u001b[1m.\\array.jl:550\u001b[22m\u001b[22m"
     ]
    }
   ],
   "source": [
    "A[1,2] = [1]"
   ]
  },
  {
   "cell_type": "code",
   "execution_count": 18,
   "metadata": {
    "collapsed": false
   },
   "outputs": [
    {
     "name": "stdout",
     "output_type": "stream",
     "text": [
      "search: \u001b[1mf\u001b[22m\u001b[1mi\u001b[22m\u001b[1ml\u001b[22m\u001b[1ml\u001b[22m \u001b[1mf\u001b[22m\u001b[1mi\u001b[22m\u001b[1ml\u001b[22m\u001b[1ml\u001b[22m! \u001b[1mf\u001b[22m\u001b[1mi\u001b[22mna\u001b[1ml\u001b[22m\u001b[1ml\u001b[22my \u001b[1mf\u001b[22m\u001b[1mi\u001b[22m\u001b[1ml\u001b[22mt \u001b[1mf\u001b[22m\u001b[1mi\u001b[22m\u001b[1ml\u001b[22mt! \u001b[1mf\u001b[22m\u001b[1mi\u001b[22m\u001b[1ml\u001b[22mter \u001b[1mf\u001b[22m\u001b[1mi\u001b[22m\u001b[1ml\u001b[22mter! \u001b[1mf\u001b[22m\u001b[1mi\u001b[22m\u001b[1ml\u001b[22mesize \u001b[1mf\u001b[22m\u001b[1mi\u001b[22m\u001b[1ml\u001b[22memode\n",
      "\n"
     ]
    },
    {
     "data": {
      "text/markdown": [
       "```\n",
       "fill(x, dims)\n",
       "```\n",
       "\n",
       "Create an array filled with the value `x`. For example, `fill(1.0, (5,5))` returns a 5×5 array of floats, with each element initialized to `1.0`.\n",
       "\n",
       "```jldoctest\n",
       "julia> fill(1.0, (5,5))\n",
       "5×5 Array{Float64,2}:\n",
       " 1.0  1.0  1.0  1.0  1.0\n",
       " 1.0  1.0  1.0  1.0  1.0\n",
       " 1.0  1.0  1.0  1.0  1.0\n",
       " 1.0  1.0  1.0  1.0  1.0\n",
       " 1.0  1.0  1.0  1.0  1.0\n",
       "```\n",
       "\n",
       "If `x` is an object reference, all elements will refer to the same object. `fill(Foo(), dims)` will return an array filled with the result of evaluating `Foo()` once.\n"
      ],
      "text/plain": [
       "```\n",
       "fill(x, dims)\n",
       "```\n",
       "\n",
       "Create an array filled with the value `x`. For example, `fill(1.0, (5,5))` returns a 5×5 array of floats, with each element initialized to `1.0`.\n",
       "\n",
       "```jldoctest\n",
       "julia> fill(1.0, (5,5))\n",
       "5×5 Array{Float64,2}:\n",
       " 1.0  1.0  1.0  1.0  1.0\n",
       " 1.0  1.0  1.0  1.0  1.0\n",
       " 1.0  1.0  1.0  1.0  1.0\n",
       " 1.0  1.0  1.0  1.0  1.0\n",
       " 1.0  1.0  1.0  1.0  1.0\n",
       "```\n",
       "\n",
       "If `x` is an object reference, all elements will refer to the same object. `fill(Foo(), dims)` will return an array filled with the result of evaluating `Foo()` once.\n"
      ]
     },
     "execution_count": 18,
     "metadata": {},
     "output_type": "execute_result"
    }
   ],
   "source": [
    "?fill"
   ]
  },
  {
   "cell_type": "code",
   "execution_count": null,
   "metadata": {
    "collapsed": true
   },
   "outputs": [],
   "source": []
  }
 ],
 "metadata": {
  "kernelspec": {
   "display_name": "Julia 0.6.0",
   "language": "julia",
   "name": "julia-0.6"
  },
  "language_info": {
   "file_extension": ".jl",
   "mimetype": "application/julia",
   "name": "julia",
   "version": "0.6.0"
  }
 },
 "nbformat": 4,
 "nbformat_minor": 2
}
